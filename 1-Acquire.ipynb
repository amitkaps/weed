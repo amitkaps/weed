{
 "cells": [
  {
   "cell_type": "markdown",
   "metadata": {},
   "source": [
    "#  1. Acquire the Data\n",
    "\n",
    "> \"Data is the new oil\"\n",
    "\n",
    "**Ways to acquire data** (typical data source)\n",
    "\n",
    "- Download from an internal system\n",
    "- Obtained from client, or other 3rd party\n",
    "- Extracted from a web-based API\n",
    "- Scraped from a website\n",
    "- Extracted from a PDF file\n",
    "- Gathered manually and recorded\n",
    "\n",
    "**Data Formats**\n",
    "- Flat files (e.g. csv)\n",
    "- Excel files\n",
    "- Database (e.g. MySQL)\n",
    "- JSON\n",
    "- HDFS (Hadoop)\n",
    "\n",
    "Two Datasets\n",
    "- Price of Weed in US\n",
    "- Demographic data by US State \n",
    "\n",
    "\n",
    "## 1.1 - Crowdsource the Price of Weed dataset\n",
    "\n",
    "![Price of weed website](http://www.priceofweed.com/app/misc/images/logo.png)\n",
    "\n",
    "The Price of Weed website - http://www.priceofweed.com/\n",
    "\n",
    "Crowdsources the price paid by people on the street to get weed. Self Reported.\n",
    "- **Location** is auto detected or can be choosen\n",
    "- **Quality** is classified in three categories \n",
    "    - High \n",
    "    - Medium\n",
    "    - Low\n",
    "- **Price by weight**\n",
    "    - an ounce\n",
    "    - a half ounce\n",
    "    - a quarter\n",
    "    - an eighth\n",
    "    - 10 grams\n",
    "    - 5 grams\n",
    "    - 1 gram\n",
    "- **Strain** (though not showed in the dataset)\n",
    "\n",
    "Reported at individual transaction level\n",
    "\n",
    "Here is a sample data set from United States - http://www.priceofweed.com/prices/United-States.html\n",
    "\n",
    "See note - *Averages are corrected for outliers based on standard deviation from the mean.*\n",
    "\n",
    "\n",
    "## 1.2  Scrape the data\n",
    "\n",
    "[Frank Bi](https://github.com/frankbi) from The Verge wrote a script to scrape the data daily. The daily prices are available on github at https://github.com/frankbi/price-of-weed\n",
    "\n",
    "Here is sample data from one day - 23rd July 2015 - https://github.com/frankbi/price-of-weed/blob/master/data/weedprices23072015.csv\n",
    "\n",
    "\n",
    "## 1.3  Combine the data\n",
    "\n",
    "All the csv files for each day were combined into one large csv. Done by YHAT.\n",
    "\n",
    "http://blog.yhathq.com/posts/7-funny-datasets.html\n",
    "\n",
    "\n",
    "## 1.4 Key Questions / Assumptions\n",
    "\n",
    "> Data is an abstraction of the reality.\n",
    "\n",
    "- What assumptions have been in this entire data collections process?\n",
    "- Are we aware of the assumptions in this process?\n",
    "- How to ensure that the data is accurate or representative for the question we are trying to answer? \n",
    "\n",
    "\n",
    "## 1.5 Loading the Data\n"
   ]
  },
  {
   "cell_type": "code",
   "execution_count": 1,
   "metadata": {
    "collapsed": true
   },
   "outputs": [],
   "source": [
    "# Load the libraries\n",
    "import pandas as pd\n",
    "import numpy as np"
   ]
  },
  {
   "cell_type": "code",
   "execution_count": 2,
   "metadata": {
    "collapsed": false
   },
   "outputs": [],
   "source": [
    "# Load the dataset\n",
    "df = pd.read_csv(\"data/Weed_Price.csv\")"
   ]
  },
  {
   "cell_type": "code",
   "execution_count": 3,
   "metadata": {
    "collapsed": false
   },
   "outputs": [
    {
     "data": {
      "text/plain": [
       "(22899, 8)"
      ]
     },
     "execution_count": 3,
     "metadata": {},
     "output_type": "execute_result"
    }
   ],
   "source": [
    "# Shape of the dateset - rows & columns\n",
    "df.shape"
   ]
  },
  {
   "cell_type": "code",
   "execution_count": 4,
   "metadata": {
    "collapsed": false
   },
   "outputs": [
    {
     "data": {
      "text/plain": [
       "State      object\n",
       "HighQ     float64\n",
       "HighQN      int64\n",
       "MedQ      float64\n",
       "MedQN       int64\n",
       "LowQ      float64\n",
       "LowQN       int64\n",
       "date       object\n",
       "dtype: object"
      ]
     },
     "execution_count": 4,
     "metadata": {},
     "output_type": "execute_result"
    }
   ],
   "source": [
    "# Check for type of each variable\n",
    "df.dtypes"
   ]
  },
  {
   "cell_type": "code",
   "execution_count": 5,
   "metadata": {
    "collapsed": false
   },
   "outputs": [],
   "source": [
    "# Lets load this again with date as date type\n",
    "df = pd.read_csv(\"data/Weed_Price.csv\", parse_dates=[-1])"
   ]
  },
  {
   "cell_type": "code",
   "execution_count": 6,
   "metadata": {
    "collapsed": false
   },
   "outputs": [
    {
     "data": {
      "text/plain": [
       "State             object\n",
       "HighQ            float64\n",
       "HighQN             int64\n",
       "MedQ             float64\n",
       "MedQN              int64\n",
       "LowQ             float64\n",
       "LowQN              int64\n",
       "date      datetime64[ns]\n",
       "dtype: object"
      ]
     },
     "execution_count": 6,
     "metadata": {},
     "output_type": "execute_result"
    }
   ],
   "source": [
    "# Now check for type for each row\n",
    "df.dtypes"
   ]
  },
  {
   "cell_type": "code",
   "execution_count": 7,
   "metadata": {
    "collapsed": false
   },
   "outputs": [
    {
     "data": {
      "text/plain": [
       "Index([u'State', u'HighQ', u'HighQN', u'MedQ', u'MedQN', u'LowQ', u'LowQN',\n",
       "       u'date'],\n",
       "      dtype='object')"
      ]
     },
     "execution_count": 7,
     "metadata": {},
     "output_type": "execute_result"
    }
   ],
   "source": [
    "# Get the names of all columns\n",
    "df.columns"
   ]
  },
  {
   "cell_type": "code",
   "execution_count": 8,
   "metadata": {
    "collapsed": false
   },
   "outputs": [
    {
     "data": {
      "text/plain": [
       "Int64Index([    0,     1,     2,     3,     4,     5,     6,     7,     8,\n",
       "                9, \n",
       "            ...\n",
       "            22889, 22890, 22891, 22892, 22893, 22894, 22895, 22896, 22897,\n",
       "            22898],\n",
       "           dtype='int64', length=22899)"
      ]
     },
     "execution_count": 8,
     "metadata": {},
     "output_type": "execute_result"
    }
   ],
   "source": [
    "# Get the index of all rows\n",
    "df.index"
   ]
  },
  {
   "cell_type": "markdown",
   "metadata": {},
   "source": [
    "## 1.6 Viewing the Data"
   ]
  },
  {
   "cell_type": "code",
   "execution_count": 9,
   "metadata": {
    "collapsed": false
   },
   "outputs": [
    {
     "data": {
      "text/html": [
       "<div>\n",
       "<table border=\"1\" class=\"dataframe\">\n",
       "  <thead>\n",
       "    <tr style=\"text-align: right;\">\n",
       "      <th></th>\n",
       "      <th>State</th>\n",
       "      <th>HighQ</th>\n",
       "      <th>HighQN</th>\n",
       "      <th>MedQ</th>\n",
       "      <th>MedQN</th>\n",
       "      <th>LowQ</th>\n",
       "      <th>LowQN</th>\n",
       "      <th>date</th>\n",
       "    </tr>\n",
       "  </thead>\n",
       "  <tbody>\n",
       "    <tr>\n",
       "      <th>0</th>\n",
       "      <td>Alabama</td>\n",
       "      <td>339.06</td>\n",
       "      <td>1042</td>\n",
       "      <td>198.64</td>\n",
       "      <td>933</td>\n",
       "      <td>149.49</td>\n",
       "      <td>123</td>\n",
       "      <td>2014-01-01</td>\n",
       "    </tr>\n",
       "    <tr>\n",
       "      <th>1</th>\n",
       "      <td>Alaska</td>\n",
       "      <td>288.75</td>\n",
       "      <td>252</td>\n",
       "      <td>260.60</td>\n",
       "      <td>297</td>\n",
       "      <td>388.58</td>\n",
       "      <td>26</td>\n",
       "      <td>2014-01-01</td>\n",
       "    </tr>\n",
       "    <tr>\n",
       "      <th>2</th>\n",
       "      <td>Arizona</td>\n",
       "      <td>303.31</td>\n",
       "      <td>1941</td>\n",
       "      <td>209.35</td>\n",
       "      <td>1625</td>\n",
       "      <td>189.45</td>\n",
       "      <td>222</td>\n",
       "      <td>2014-01-01</td>\n",
       "    </tr>\n",
       "    <tr>\n",
       "      <th>3</th>\n",
       "      <td>Arkansas</td>\n",
       "      <td>361.85</td>\n",
       "      <td>576</td>\n",
       "      <td>185.62</td>\n",
       "      <td>544</td>\n",
       "      <td>125.87</td>\n",
       "      <td>112</td>\n",
       "      <td>2014-01-01</td>\n",
       "    </tr>\n",
       "    <tr>\n",
       "      <th>4</th>\n",
       "      <td>California</td>\n",
       "      <td>248.78</td>\n",
       "      <td>12096</td>\n",
       "      <td>193.56</td>\n",
       "      <td>12812</td>\n",
       "      <td>192.92</td>\n",
       "      <td>778</td>\n",
       "      <td>2014-01-01</td>\n",
       "    </tr>\n",
       "  </tbody>\n",
       "</table>\n",
       "</div>"
      ],
      "text/plain": [
       "        State   HighQ  HighQN    MedQ  MedQN    LowQ  LowQN       date\n",
       "0     Alabama  339.06    1042  198.64    933  149.49    123 2014-01-01\n",
       "1      Alaska  288.75     252  260.60    297  388.58     26 2014-01-01\n",
       "2     Arizona  303.31    1941  209.35   1625  189.45    222 2014-01-01\n",
       "3    Arkansas  361.85     576  185.62    544  125.87    112 2014-01-01\n",
       "4  California  248.78   12096  193.56  12812  192.92    778 2014-01-01"
      ]
     },
     "execution_count": 9,
     "metadata": {},
     "output_type": "execute_result"
    }
   ],
   "source": [
    "# Can we see some sample rows - the top 5 rows\n",
    "df.head()"
   ]
  },
  {
   "cell_type": "code",
   "execution_count": 10,
   "metadata": {
    "collapsed": false
   },
   "outputs": [
    {
     "data": {
      "text/html": [
       "<div>\n",
       "<table border=\"1\" class=\"dataframe\">\n",
       "  <thead>\n",
       "    <tr style=\"text-align: right;\">\n",
       "      <th></th>\n",
       "      <th>State</th>\n",
       "      <th>HighQ</th>\n",
       "      <th>HighQN</th>\n",
       "      <th>MedQ</th>\n",
       "      <th>MedQN</th>\n",
       "      <th>LowQ</th>\n",
       "      <th>LowQN</th>\n",
       "      <th>date</th>\n",
       "    </tr>\n",
       "  </thead>\n",
       "  <tbody>\n",
       "    <tr>\n",
       "      <th>22894</th>\n",
       "      <td>Virginia</td>\n",
       "      <td>364.98</td>\n",
       "      <td>3513</td>\n",
       "      <td>293.12</td>\n",
       "      <td>3079</td>\n",
       "      <td>NaN</td>\n",
       "      <td>284</td>\n",
       "      <td>2014-12-31</td>\n",
       "    </tr>\n",
       "    <tr>\n",
       "      <th>22895</th>\n",
       "      <td>Washington</td>\n",
       "      <td>233.05</td>\n",
       "      <td>3337</td>\n",
       "      <td>189.92</td>\n",
       "      <td>3562</td>\n",
       "      <td>NaN</td>\n",
       "      <td>160</td>\n",
       "      <td>2014-12-31</td>\n",
       "    </tr>\n",
       "    <tr>\n",
       "      <th>22896</th>\n",
       "      <td>West Virginia</td>\n",
       "      <td>359.35</td>\n",
       "      <td>551</td>\n",
       "      <td>224.03</td>\n",
       "      <td>545</td>\n",
       "      <td>NaN</td>\n",
       "      <td>60</td>\n",
       "      <td>2014-12-31</td>\n",
       "    </tr>\n",
       "    <tr>\n",
       "      <th>22897</th>\n",
       "      <td>Wisconsin</td>\n",
       "      <td>350.52</td>\n",
       "      <td>2244</td>\n",
       "      <td>272.71</td>\n",
       "      <td>2221</td>\n",
       "      <td>NaN</td>\n",
       "      <td>167</td>\n",
       "      <td>2014-12-31</td>\n",
       "    </tr>\n",
       "    <tr>\n",
       "      <th>22898</th>\n",
       "      <td>Wyoming</td>\n",
       "      <td>322.27</td>\n",
       "      <td>131</td>\n",
       "      <td>351.86</td>\n",
       "      <td>197</td>\n",
       "      <td>NaN</td>\n",
       "      <td>12</td>\n",
       "      <td>2014-12-31</td>\n",
       "    </tr>\n",
       "  </tbody>\n",
       "</table>\n",
       "</div>"
      ],
      "text/plain": [
       "               State   HighQ  HighQN    MedQ  MedQN  LowQ  LowQN       date\n",
       "22894       Virginia  364.98    3513  293.12   3079   NaN    284 2014-12-31\n",
       "22895     Washington  233.05    3337  189.92   3562   NaN    160 2014-12-31\n",
       "22896  West Virginia  359.35     551  224.03    545   NaN     60 2014-12-31\n",
       "22897      Wisconsin  350.52    2244  272.71   2221   NaN    167 2014-12-31\n",
       "22898        Wyoming  322.27     131  351.86    197   NaN     12 2014-12-31"
      ]
     },
     "execution_count": 10,
     "metadata": {},
     "output_type": "execute_result"
    }
   ],
   "source": [
    "# Can we see some sample rows - the bottom 5 rows\n",
    "df.tail()"
   ]
  },
  {
   "cell_type": "code",
   "execution_count": 11,
   "metadata": {
    "collapsed": false
   },
   "outputs": [
    {
     "data": {
      "text/html": [
       "<div>\n",
       "<table border=\"1\" class=\"dataframe\">\n",
       "  <thead>\n",
       "    <tr style=\"text-align: right;\">\n",
       "      <th></th>\n",
       "      <th>State</th>\n",
       "      <th>HighQ</th>\n",
       "      <th>HighQN</th>\n",
       "      <th>MedQ</th>\n",
       "      <th>MedQN</th>\n",
       "      <th>LowQ</th>\n",
       "      <th>LowQN</th>\n",
       "      <th>date</th>\n",
       "    </tr>\n",
       "  </thead>\n",
       "  <tbody>\n",
       "    <tr>\n",
       "      <th>20</th>\n",
       "      <td>Montana</td>\n",
       "      <td>279.73</td>\n",
       "      <td>585</td>\n",
       "      <td>257.98</td>\n",
       "      <td>258</td>\n",
       "      <td>734.65</td>\n",
       "      <td>22</td>\n",
       "      <td>2014-01-01</td>\n",
       "    </tr>\n",
       "    <tr>\n",
       "      <th>21</th>\n",
       "      <td>Nebraska</td>\n",
       "      <td>352.64</td>\n",
       "      <td>508</td>\n",
       "      <td>247.03</td>\n",
       "      <td>510</td>\n",
       "      <td>142.99</td>\n",
       "      <td>62</td>\n",
       "      <td>2014-01-01</td>\n",
       "    </tr>\n",
       "    <tr>\n",
       "      <th>22</th>\n",
       "      <td>Nevada</td>\n",
       "      <td>269.61</td>\n",
       "      <td>899</td>\n",
       "      <td>218.67</td>\n",
       "      <td>928</td>\n",
       "      <td>231.08</td>\n",
       "      <td>61</td>\n",
       "      <td>2014-01-01</td>\n",
       "    </tr>\n",
       "    <tr>\n",
       "      <th>23</th>\n",
       "      <td>New Hampshire</td>\n",
       "      <td>366.47</td>\n",
       "      <td>422</td>\n",
       "      <td>289.81</td>\n",
       "      <td>441</td>\n",
       "      <td>561.05</td>\n",
       "      <td>38</td>\n",
       "      <td>2014-01-01</td>\n",
       "    </tr>\n",
       "    <tr>\n",
       "      <th>24</th>\n",
       "      <td>New Jersey</td>\n",
       "      <td>354.91</td>\n",
       "      <td>2244</td>\n",
       "      <td>294.39</td>\n",
       "      <td>2799</td>\n",
       "      <td>225.62</td>\n",
       "      <td>185</td>\n",
       "      <td>2014-01-01</td>\n",
       "    </tr>\n",
       "  </tbody>\n",
       "</table>\n",
       "</div>"
      ],
      "text/plain": [
       "            State   HighQ  HighQN    MedQ  MedQN    LowQ  LowQN       date\n",
       "20        Montana  279.73     585  257.98    258  734.65     22 2014-01-01\n",
       "21       Nebraska  352.64     508  247.03    510  142.99     62 2014-01-01\n",
       "22         Nevada  269.61     899  218.67    928  231.08     61 2014-01-01\n",
       "23  New Hampshire  366.47     422  289.81    441  561.05     38 2014-01-01\n",
       "24     New Jersey  354.91    2244  294.39   2799  225.62    185 2014-01-01"
      ]
     },
     "execution_count": 11,
     "metadata": {},
     "output_type": "execute_result"
    }
   ],
   "source": [
    "# Get specific rows\n",
    "df[20:25]"
   ]
  },
  {
   "cell_type": "code",
   "execution_count": 12,
   "metadata": {
    "collapsed": false
   },
   "outputs": [
    {
     "data": {
      "text/plain": [
       "0                     Alabama\n",
       "1                      Alaska\n",
       "2                     Arizona\n",
       "3                    Arkansas\n",
       "4                  California\n",
       "5                    Colorado\n",
       "6                 Connecticut\n",
       "7                    Delaware\n",
       "8        District of Columbia\n",
       "9                     Florida\n",
       "10                    Georgia\n",
       "11                     Hawaii\n",
       "12                      Idaho\n",
       "13                   Illinois\n",
       "14                    Indiana\n",
       "15                       Iowa\n",
       "16                     Kansas\n",
       "17                   Kentucky\n",
       "18                  Louisiana\n",
       "19                      Maine\n",
       "20                    Montana\n",
       "21                   Nebraska\n",
       "22                     Nevada\n",
       "23              New Hampshire\n",
       "24                 New Jersey\n",
       "25                 New Mexico\n",
       "26                   New York\n",
       "27             North Carolina\n",
       "28               North Dakota\n",
       "29                       Ohio\n",
       "                 ...         \n",
       "22869                Nebraska\n",
       "22870                  Nevada\n",
       "22871           New Hampshire\n",
       "22872              New Jersey\n",
       "22873              New Mexico\n",
       "22874                New York\n",
       "22875          North Carolina\n",
       "22876            North Dakota\n",
       "22877                    Ohio\n",
       "22878                Oklahoma\n",
       "22879                  Oregon\n",
       "22880                Maryland\n",
       "22881           Massachusetts\n",
       "22882                Michigan\n",
       "22883               Minnesota\n",
       "22884             Mississippi\n",
       "22885                Missouri\n",
       "22886            Pennsylvania\n",
       "22887            Rhode Island\n",
       "22888          South Carolina\n",
       "22889            South Dakota\n",
       "22890               Tennessee\n",
       "22891                   Texas\n",
       "22892                    Utah\n",
       "22893                 Vermont\n",
       "22894                Virginia\n",
       "22895              Washington\n",
       "22896           West Virginia\n",
       "22897               Wisconsin\n",
       "22898                 Wyoming\n",
       "Name: State, dtype: object"
      ]
     },
     "execution_count": 12,
     "metadata": {},
     "output_type": "execute_result"
    }
   ],
   "source": [
    "# Can we access a specific columns\n",
    "df[\"State\"]"
   ]
  },
  {
   "cell_type": "code",
   "execution_count": 13,
   "metadata": {
    "collapsed": false
   },
   "outputs": [
    {
     "data": {
      "text/plain": [
       "0                     Alabama\n",
       "1                      Alaska\n",
       "2                     Arizona\n",
       "3                    Arkansas\n",
       "4                  California\n",
       "5                    Colorado\n",
       "6                 Connecticut\n",
       "7                    Delaware\n",
       "8        District of Columbia\n",
       "9                     Florida\n",
       "10                    Georgia\n",
       "11                     Hawaii\n",
       "12                      Idaho\n",
       "13                   Illinois\n",
       "14                    Indiana\n",
       "15                       Iowa\n",
       "16                     Kansas\n",
       "17                   Kentucky\n",
       "18                  Louisiana\n",
       "19                      Maine\n",
       "20                    Montana\n",
       "21                   Nebraska\n",
       "22                     Nevada\n",
       "23              New Hampshire\n",
       "24                 New Jersey\n",
       "25                 New Mexico\n",
       "26                   New York\n",
       "27             North Carolina\n",
       "28               North Dakota\n",
       "29                       Ohio\n",
       "                 ...         \n",
       "22869                Nebraska\n",
       "22870                  Nevada\n",
       "22871           New Hampshire\n",
       "22872              New Jersey\n",
       "22873              New Mexico\n",
       "22874                New York\n",
       "22875          North Carolina\n",
       "22876            North Dakota\n",
       "22877                    Ohio\n",
       "22878                Oklahoma\n",
       "22879                  Oregon\n",
       "22880                Maryland\n",
       "22881           Massachusetts\n",
       "22882                Michigan\n",
       "22883               Minnesota\n",
       "22884             Mississippi\n",
       "22885                Missouri\n",
       "22886            Pennsylvania\n",
       "22887            Rhode Island\n",
       "22888          South Carolina\n",
       "22889            South Dakota\n",
       "22890               Tennessee\n",
       "22891                   Texas\n",
       "22892                    Utah\n",
       "22893                 Vermont\n",
       "22894                Virginia\n",
       "22895              Washington\n",
       "22896           West Virginia\n",
       "22897               Wisconsin\n",
       "22898                 Wyoming\n",
       "Name: State, dtype: object"
      ]
     },
     "execution_count": 13,
     "metadata": {},
     "output_type": "execute_result"
    }
   ],
   "source": [
    "# Using the dot notation\n",
    "df.State"
   ]
  },
  {
   "cell_type": "code",
   "execution_count": 14,
   "metadata": {
    "collapsed": false
   },
   "outputs": [
    {
     "data": {
      "text/plain": [
       "0       Alabama\n",
       "1        Alaska\n",
       "2       Arizona\n",
       "3      Arkansas\n",
       "4    California\n",
       "Name: State, dtype: object"
      ]
     },
     "execution_count": 14,
     "metadata": {},
     "output_type": "execute_result"
    }
   ],
   "source": [
    "# Selecting specific column and rows\n",
    "df[0:5][\"State\"]"
   ]
  },
  {
   "cell_type": "code",
   "execution_count": 15,
   "metadata": {
    "collapsed": false
   },
   "outputs": [
    {
     "data": {
      "text/plain": [
       "0       Alabama\n",
       "1        Alaska\n",
       "2       Arizona\n",
       "3      Arkansas\n",
       "4    California\n",
       "Name: State, dtype: object"
      ]
     },
     "execution_count": 15,
     "metadata": {},
     "output_type": "execute_result"
    }
   ],
   "source": [
    "# Works both ways\n",
    "df[\"State\"][0:5]"
   ]
  },
  {
   "cell_type": "markdown",
   "metadata": {},
   "source": [
    "## 1.7 Slicing columns using pandas"
   ]
  },
  {
   "cell_type": "code",
   "execution_count": 16,
   "metadata": {
    "collapsed": false
   },
   "outputs": [
    {
     "data": {
      "text/plain": [
       "Int64Index([    0,     1,     2,     3,     4,     5,     6,     7,     8,\n",
       "                9, \n",
       "            ...\n",
       "            22889, 22890, 22891, 22892, 22893, 22894, 22895, 22896, 22897,\n",
       "            22898],\n",
       "           dtype='int64', length=22899)"
      ]
     },
     "execution_count": 16,
     "metadata": {},
     "output_type": "execute_result"
    }
   ],
   "source": [
    "df.index"
   ]
  },
  {
   "cell_type": "code",
   "execution_count": 29,
   "metadata": {
    "collapsed": false
   },
   "outputs": [
    {
     "data": {
      "text/plain": [
       "State                 Alabama\n",
       "HighQ                  339.06\n",
       "HighQN                   1042\n",
       "MedQ                   198.64\n",
       "MedQN                     933\n",
       "LowQ                   149.49\n",
       "LowQN                     123\n",
       "date      2014-01-01 00:00:00\n",
       "Name: 0, dtype: object"
      ]
     },
     "execution_count": 29,
     "metadata": {},
     "output_type": "execute_result"
    }
   ],
   "source": [
    "df.loc[0]"
   ]
  },
  {
   "cell_type": "code",
   "execution_count": 30,
   "metadata": {
    "collapsed": false
   },
   "outputs": [
    {
     "data": {
      "text/plain": [
       "'Alabama'"
      ]
     },
     "execution_count": 30,
     "metadata": {},
     "output_type": "execute_result"
    }
   ],
   "source": [
    "df.iloc[0,0]"
   ]
  },
  {
   "cell_type": "code",
   "execution_count": 25,
   "metadata": {
    "collapsed": false
   },
   "outputs": [
    {
     "data": {
      "text/plain": [
       "'Alabama'"
      ]
     },
     "execution_count": 25,
     "metadata": {},
     "output_type": "execute_result"
    }
   ],
   "source": [
    "df.ix[0,0]"
   ]
  },
  {
   "cell_type": "markdown",
   "metadata": {},
   "source": [
    "# Exercise\n",
    "\n",
    "1) Load the Demographics_State.csv dataset"
   ]
  },
  {
   "cell_type": "code",
   "execution_count": null,
   "metadata": {
    "collapsed": true
   },
   "outputs": [],
   "source": []
  },
  {
   "cell_type": "markdown",
   "metadata": {},
   "source": [
    "2) Show the five first rows of the dataset"
   ]
  },
  {
   "cell_type": "code",
   "execution_count": null,
   "metadata": {
    "collapsed": true
   },
   "outputs": [],
   "source": []
  },
  {
   "cell_type": "markdown",
   "metadata": {},
   "source": [
    "3) Select the column with the State name in the data frame"
   ]
  },
  {
   "cell_type": "code",
   "execution_count": null,
   "metadata": {
    "collapsed": true
   },
   "outputs": [],
   "source": []
  },
  {
   "cell_type": "markdown",
   "metadata": {},
   "source": [
    "4) Get help"
   ]
  },
  {
   "cell_type": "code",
   "execution_count": null,
   "metadata": {
    "collapsed": true
   },
   "outputs": [],
   "source": []
  },
  {
   "cell_type": "markdown",
   "metadata": {},
   "source": [
    "5) Change index to State"
   ]
  },
  {
   "cell_type": "code",
   "execution_count": null,
   "metadata": {
    "collapsed": true
   },
   "outputs": [],
   "source": []
  },
  {
   "cell_type": "markdown",
   "metadata": {},
   "source": [
    "# Thinking in Vectors\n",
    "\n",
    "Difference between loops and vectors"
   ]
  },
  {
   "cell_type": "code",
   "execution_count": null,
   "metadata": {
    "collapsed": true
   },
   "outputs": [],
   "source": []
  }
 ],
 "metadata": {
  "kernelspec": {
   "display_name": "Python 2",
   "language": "python",
   "name": "python2"
  },
  "language_info": {
   "codemirror_mode": {
    "name": "ipython",
    "version": 2
   },
   "file_extension": ".py",
   "mimetype": "text/x-python",
   "name": "python",
   "nbconvert_exporter": "python",
   "pygments_lexer": "ipython2",
   "version": "2.7.10"
  }
 },
 "nbformat": 4,
 "nbformat_minor": 0
}
