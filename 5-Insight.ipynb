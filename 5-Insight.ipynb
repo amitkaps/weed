{
 "cells": [
  {
   "cell_type": "markdown",
   "metadata": {},
   "source": [
    "# 5-Insight\n",
    "\n",
    "> “The goal is to turn data into insight”\n",
    "  \n",
    "- Why do we need to communicate insight?\n",
    "- Types of communication - Exploration vs. Explanation\n",
    "- Explanation: Telling a story with data\n",
    "- Exploration: Building an interface for people to find stories"
   ]
  },
  {
   "cell_type": "code",
   "execution_count": null,
   "metadata": {
    "collapsed": true
   },
   "outputs": [],
   "source": []
  }
 ],
 "metadata": {
  "kernelspec": {
   "display_name": "Python 2",
   "language": "python",
   "name": "python2"
  },
  "language_info": {
   "codemirror_mode": {
    "name": "ipython",
    "version": 2
   },
   "file_extension": ".py",
   "mimetype": "text/x-python",
   "name": "python",
   "nbconvert_exporter": "python",
   "pygments_lexer": "ipython2",
   "version": "2.7.10"
  }
 },
 "nbformat": 4,
 "nbformat_minor": 0
}
