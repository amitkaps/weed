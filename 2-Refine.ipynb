{
 "cells": [
  {
   "cell_type": "markdown",
   "metadata": {},
   "source": [
    "# 2. Refine the Data\n",
    " \n",
    "> \"Data is messy\"\n",
    "\n",
    "- **Missing** e.g. Check for missing or incomplete data\n",
    "- **Quality** e.g. Check for duplicates, accuracy, unusual data\n",
    "- **Parse** e.g. extract year and month from date\n",
    "- **Convert** e.g. free text to coded value\n",
    "- **Derive** e.g. gender from title\n",
    "- **Calculate** e.g. percentages, proportion\n",
    "- **Remove** e.g. remove redundant data\n",
    "- **Merge** e.g. first and surname for full name\n",
    "- **Aggregate** e.g. rollup by year, cluster by area\n",
    "- **Filter** e.g. exclude based on location\n",
    "- **Sample** e.g. extract a representative data\n",
    "- **Summary** e.g. show summary stats like mean"
   ]
  },
  {
   "cell_type": "code",
   "execution_count": 1,
   "metadata": {
    "collapsed": true
   },
   "outputs": [],
   "source": [
    "# Load the libraries\n",
    "import numpy as np\n",
    "import pandas as pd"
   ]
  },
  {
   "cell_type": "code",
   "execution_count": 2,
   "metadata": {
    "collapsed": true
   },
   "outputs": [],
   "source": [
    "# Load the data again!\n",
    "df = pd.read_csv(\"data/Weed_Price.csv\", parse_dates=[-1])"
   ]
  },
  {
   "cell_type": "markdown",
   "metadata": {},
   "source": [
    "## 2.1 Missing Data\n",
    "\n",
    "By “missing” data we simply mean null or “not present for whatever reason”. Lets see if we can find the missing data in our data set either because it exists and was not collected or it never existed"
   ]
  },
  {
   "cell_type": "code",
   "execution_count": 3,
   "metadata": {
    "collapsed": false
   },
   "outputs": [
    {
     "data": {
      "text/plain": [
       "State     22899\n",
       "HighQ     22899\n",
       "HighQN    22899\n",
       "MedQ      22899\n",
       "MedQN     22899\n",
       "LowQ      12342\n",
       "LowQN     22899\n",
       "date      22899\n",
       "dtype: int64"
      ]
     },
     "execution_count": 3,
     "metadata": {},
     "output_type": "execute_result"
    }
   ],
   "source": [
    "# Lets start the count to seeing about missing data\n",
    "df.count()"
   ]
  },
  {
   "cell_type": "code",
   "execution_count": 4,
   "metadata": {
    "collapsed": false
   },
   "outputs": [
    {
     "data": {
      "text/plain": [
       "0        False\n",
       "1        False\n",
       "2        False\n",
       "3        False\n",
       "4        False\n",
       "5        False\n",
       "6        False\n",
       "7        False\n",
       "8        False\n",
       "9        False\n",
       "10       False\n",
       "11       False\n",
       "12       False\n",
       "13       False\n",
       "14       False\n",
       "15       False\n",
       "16       False\n",
       "17       False\n",
       "18       False\n",
       "19       False\n",
       "20       False\n",
       "21       False\n",
       "22       False\n",
       "23       False\n",
       "24       False\n",
       "25       False\n",
       "26       False\n",
       "27       False\n",
       "28       False\n",
       "29       False\n",
       "         ...  \n",
       "22869     True\n",
       "22870     True\n",
       "22871     True\n",
       "22872     True\n",
       "22873     True\n",
       "22874     True\n",
       "22875     True\n",
       "22876     True\n",
       "22877     True\n",
       "22878     True\n",
       "22879     True\n",
       "22880     True\n",
       "22881     True\n",
       "22882     True\n",
       "22883     True\n",
       "22884     True\n",
       "22885     True\n",
       "22886     True\n",
       "22887     True\n",
       "22888     True\n",
       "22889     True\n",
       "22890     True\n",
       "22891     True\n",
       "22892     True\n",
       "22893     True\n",
       "22894     True\n",
       "22895     True\n",
       "22896     True\n",
       "22897     True\n",
       "22898     True\n",
       "Name: LowQ, dtype: bool"
      ]
     },
     "execution_count": 4,
     "metadata": {},
     "output_type": "execute_result"
    }
   ],
   "source": [
    "df['LowQ'].isnull()"
   ]
  },
  {
   "cell_type": "code",
   "execution_count": 5,
   "metadata": {
    "collapsed": false
   },
   "outputs": [
    {
     "data": {
      "text/html": [
       "<div>\n",
       "<table border=\"1\" class=\"dataframe\">\n",
       "  <thead>\n",
       "    <tr style=\"text-align: right;\">\n",
       "      <th></th>\n",
       "      <th>State</th>\n",
       "      <th>HighQ</th>\n",
       "      <th>HighQN</th>\n",
       "      <th>MedQ</th>\n",
       "      <th>MedQN</th>\n",
       "      <th>LowQ</th>\n",
       "      <th>LowQN</th>\n",
       "      <th>date</th>\n",
       "    </tr>\n",
       "  </thead>\n",
       "  <tbody>\n",
       "    <tr>\n",
       "      <th>22894</th>\n",
       "      <td>Virginia</td>\n",
       "      <td>364.98</td>\n",
       "      <td>3513</td>\n",
       "      <td>293.12</td>\n",
       "      <td>3079</td>\n",
       "      <td>NaN</td>\n",
       "      <td>284</td>\n",
       "      <td>2014-12-31</td>\n",
       "    </tr>\n",
       "    <tr>\n",
       "      <th>22895</th>\n",
       "      <td>Washington</td>\n",
       "      <td>233.05</td>\n",
       "      <td>3337</td>\n",
       "      <td>189.92</td>\n",
       "      <td>3562</td>\n",
       "      <td>NaN</td>\n",
       "      <td>160</td>\n",
       "      <td>2014-12-31</td>\n",
       "    </tr>\n",
       "    <tr>\n",
       "      <th>22896</th>\n",
       "      <td>West Virginia</td>\n",
       "      <td>359.35</td>\n",
       "      <td>551</td>\n",
       "      <td>224.03</td>\n",
       "      <td>545</td>\n",
       "      <td>NaN</td>\n",
       "      <td>60</td>\n",
       "      <td>2014-12-31</td>\n",
       "    </tr>\n",
       "    <tr>\n",
       "      <th>22897</th>\n",
       "      <td>Wisconsin</td>\n",
       "      <td>350.52</td>\n",
       "      <td>2244</td>\n",
       "      <td>272.71</td>\n",
       "      <td>2221</td>\n",
       "      <td>NaN</td>\n",
       "      <td>167</td>\n",
       "      <td>2014-12-31</td>\n",
       "    </tr>\n",
       "    <tr>\n",
       "      <th>22898</th>\n",
       "      <td>Wyoming</td>\n",
       "      <td>322.27</td>\n",
       "      <td>131</td>\n",
       "      <td>351.86</td>\n",
       "      <td>197</td>\n",
       "      <td>NaN</td>\n",
       "      <td>12</td>\n",
       "      <td>2014-12-31</td>\n",
       "    </tr>\n",
       "  </tbody>\n",
       "</table>\n",
       "</div>"
      ],
      "text/plain": [
       "               State   HighQ  HighQN    MedQ  MedQN  LowQ  LowQN       date\n",
       "22894       Virginia  364.98    3513  293.12   3079   NaN    284 2014-12-31\n",
       "22895     Washington  233.05    3337  189.92   3562   NaN    160 2014-12-31\n",
       "22896  West Virginia  359.35     551  224.03    545   NaN     60 2014-12-31\n",
       "22897      Wisconsin  350.52    2244  272.71   2221   NaN    167 2014-12-31\n",
       "22898        Wyoming  322.27     131  351.86    197   NaN     12 2014-12-31"
      ]
     },
     "execution_count": 5,
     "metadata": {},
     "output_type": "execute_result"
    }
   ],
   "source": [
    "# We can see the bottom rows which have NaN values\n",
    "df.tail()"
   ]
  },
  {
   "cell_type": "markdown",
   "metadata": {},
   "source": [
    "**Pandas will represent missing value by NaN**\n",
    "\n",
    "What can we do this with missing value?\n",
    "- Drop these rows / columns? Use `.dropna(how='any')`\n",
    "- Fill with a dummy value? Use `.fillna(value=dummy)`\n",
    "- Impute the cell with the most recent value? Use `.fillna(method='ffill')`\n",
    "- Interpolate the amount in a linear fashion? Use `.interpolate()`\n",
    "\n",
    "We use the `inplace = True` operator to avoid making a copy of the dataframe and changing the dataframe itself"
   ]
  },
  {
   "cell_type": "code",
   "execution_count": 6,
   "metadata": {
    "collapsed": false
   },
   "outputs": [],
   "source": [
    "# Lets sort this data frame by State and Date\n",
    "df.sort(columns=['State','date'], inplace=True)"
   ]
  },
  {
   "cell_type": "code",
   "execution_count": 7,
   "metadata": {
    "collapsed": true
   },
   "outputs": [],
   "source": [
    "# Lets fill the missing value with last available value\n",
    "df.fillna(method = \"ffill\", inplace=True)"
   ]
  },
  {
   "cell_type": "code",
   "execution_count": 8,
   "metadata": {
    "collapsed": false
   },
   "outputs": [
    {
     "data": {
      "text/plain": [
       "State     22899\n",
       "HighQ     22899\n",
       "HighQN    22899\n",
       "MedQ      22899\n",
       "MedQN     22899\n",
       "LowQ      22899\n",
       "LowQN     22899\n",
       "date      22899\n",
       "dtype: int64"
      ]
     },
     "execution_count": 8,
     "metadata": {},
     "output_type": "execute_result"
    }
   ],
   "source": [
    "df.count()"
   ]
  },
  {
   "cell_type": "markdown",
   "metadata": {},
   "source": [
    "### Exercise\n",
    "\n",
    "Fill the missing value with a backward fill."
   ]
  },
  {
   "cell_type": "code",
   "execution_count": null,
   "metadata": {
    "collapsed": true
   },
   "outputs": [],
   "source": []
  },
  {
   "cell_type": "markdown",
   "metadata": {},
   "source": [
    "Fill the missing values with the mean for the column."
   ]
  },
  {
   "cell_type": "code",
   "execution_count": null,
   "metadata": {
    "collapsed": true
   },
   "outputs": [],
   "source": []
  },
  {
   "cell_type": "markdown",
   "metadata": {},
   "source": [
    "## 2.2 Quality of the Data \n",
    "\n",
    "Lets check for completeness.\n",
    "\n",
    "**Say, do we have data on each date for all the 51 states?**"
   ]
  },
  {
   "cell_type": "code",
   "execution_count": 9,
   "metadata": {
    "collapsed": false
   },
   "outputs": [
    {
     "data": {
      "text/plain": [
       "Utah                    449\n",
       "Washington              449\n",
       "Massachusetts           449\n",
       "Missouri                449\n",
       "Connecticut             449\n",
       "Vermont                 449\n",
       "Pennsylvania            449\n",
       "Georgia                 449\n",
       "California              449\n",
       "North Carolina          449\n",
       "Florida                 449\n",
       "Oregon                  449\n",
       "Alabama                 449\n",
       "Indiana                 449\n",
       "Kentucky                449\n",
       "Hawaii                  449\n",
       "South Carolina          449\n",
       "Virginia                449\n",
       "Oklahoma                449\n",
       "Texas                   449\n",
       "Illinois                449\n",
       "Nebraska                449\n",
       "Ohio                    449\n",
       "Arizona                 449\n",
       "Rhode Island            449\n",
       "Louisiana               449\n",
       "Wisconsin               449\n",
       "New York                449\n",
       "Arkansas                449\n",
       "Montana                 449\n",
       "New Hampshire           449\n",
       "North Dakota            449\n",
       "New Mexico              449\n",
       "Delaware                449\n",
       "Iowa                    449\n",
       "New Jersey              449\n",
       "Kansas                  449\n",
       "Idaho                   449\n",
       "Colorado                449\n",
       "Maryland                449\n",
       "District of Columbia    449\n",
       "Michigan                449\n",
       "South Dakota            449\n",
       "West Virginia           449\n",
       "Minnesota               449\n",
       "Wyoming                 449\n",
       "Mississippi             449\n",
       "Tennessee               449\n",
       "Nevada                  449\n",
       "Maine                   449\n",
       "Alaska                  449\n",
       "dtype: int64"
      ]
     },
     "execution_count": 9,
     "metadata": {},
     "output_type": "execute_result"
    }
   ],
   "source": [
    "df[\"State\"].value_counts()"
   ]
  },
  {
   "cell_type": "markdown",
   "metadata": {},
   "source": [
    "**Lets check the dates and see if they are all continuous**"
   ]
  },
  {
   "cell_type": "code",
   "execution_count": null,
   "metadata": {
    "collapsed": false
   },
   "outputs": [],
   "source": []
  },
  {
   "cell_type": "markdown",
   "metadata": {},
   "source": [
    "## 2.3  Parse the Data\n",
    "\n",
    "Lets see if we can get the year, month, week and weekdays from the date. Pandas has got good built in functionality for timeseries data using the DatetimeIndex method "
   ]
  },
  {
   "cell_type": "code",
   "execution_count": 10,
   "metadata": {
    "collapsed": false
   },
   "outputs": [],
   "source": [
    "df['year'] = pd.DatetimeIndex(df['date']).year\n",
    "df['month'] = pd.DatetimeIndex(df['date']).month\n",
    "df['week'] = pd.DatetimeIndex(df['date']).week\n",
    "df['weekday'] = pd.DatetimeIndex(df['date']).weekday"
   ]
  },
  {
   "cell_type": "code",
   "execution_count": 11,
   "metadata": {
    "collapsed": false
   },
   "outputs": [
    {
     "data": {
      "text/plain": [
       "State              object\n",
       "HighQ             float64\n",
       "HighQN              int64\n",
       "MedQ              float64\n",
       "MedQN               int64\n",
       "LowQ              float64\n",
       "LowQN               int64\n",
       "date       datetime64[ns]\n",
       "year                int32\n",
       "month               int32\n",
       "week                int32\n",
       "weekday             int32\n",
       "dtype: object"
      ]
     },
     "execution_count": 11,
     "metadata": {},
     "output_type": "execute_result"
    }
   ],
   "source": [
    "df.dtypes"
   ]
  },
  {
   "cell_type": "code",
   "execution_count": 12,
   "metadata": {
    "collapsed": false
   },
   "outputs": [
    {
     "data": {
      "text/html": [
       "<div>\n",
       "<table border=\"1\" class=\"dataframe\">\n",
       "  <thead>\n",
       "    <tr style=\"text-align: right;\">\n",
       "      <th></th>\n",
       "      <th>State</th>\n",
       "      <th>HighQ</th>\n",
       "      <th>HighQN</th>\n",
       "      <th>MedQ</th>\n",
       "      <th>MedQN</th>\n",
       "      <th>LowQ</th>\n",
       "      <th>LowQN</th>\n",
       "      <th>date</th>\n",
       "      <th>year</th>\n",
       "      <th>month</th>\n",
       "      <th>week</th>\n",
       "      <th>weekday</th>\n",
       "    </tr>\n",
       "  </thead>\n",
       "  <tbody>\n",
       "    <tr>\n",
       "      <th>4997</th>\n",
       "      <td>Wyoming</td>\n",
       "      <td>313.72</td>\n",
       "      <td>148</td>\n",
       "      <td>317.38</td>\n",
       "      <td>226</td>\n",
       "      <td>161.3</td>\n",
       "      <td>13</td>\n",
       "      <td>2015-06-07</td>\n",
       "      <td>2015</td>\n",
       "      <td>6</td>\n",
       "      <td>23</td>\n",
       "      <td>6</td>\n",
       "    </tr>\n",
       "    <tr>\n",
       "      <th>5762</th>\n",
       "      <td>Wyoming</td>\n",
       "      <td>313.72</td>\n",
       "      <td>148</td>\n",
       "      <td>317.38</td>\n",
       "      <td>226</td>\n",
       "      <td>161.3</td>\n",
       "      <td>13</td>\n",
       "      <td>2015-06-08</td>\n",
       "      <td>2015</td>\n",
       "      <td>6</td>\n",
       "      <td>24</td>\n",
       "      <td>0</td>\n",
       "    </tr>\n",
       "    <tr>\n",
       "      <th>6527</th>\n",
       "      <td>Wyoming</td>\n",
       "      <td>313.72</td>\n",
       "      <td>148</td>\n",
       "      <td>317.38</td>\n",
       "      <td>226</td>\n",
       "      <td>161.3</td>\n",
       "      <td>13</td>\n",
       "      <td>2015-06-09</td>\n",
       "      <td>2015</td>\n",
       "      <td>6</td>\n",
       "      <td>24</td>\n",
       "      <td>1</td>\n",
       "    </tr>\n",
       "    <tr>\n",
       "      <th>7343</th>\n",
       "      <td>Wyoming</td>\n",
       "      <td>313.72</td>\n",
       "      <td>148</td>\n",
       "      <td>317.38</td>\n",
       "      <td>226</td>\n",
       "      <td>161.3</td>\n",
       "      <td>13</td>\n",
       "      <td>2015-06-10</td>\n",
       "      <td>2015</td>\n",
       "      <td>6</td>\n",
       "      <td>24</td>\n",
       "      <td>2</td>\n",
       "    </tr>\n",
       "    <tr>\n",
       "      <th>8159</th>\n",
       "      <td>Wyoming</td>\n",
       "      <td>313.72</td>\n",
       "      <td>148</td>\n",
       "      <td>317.38</td>\n",
       "      <td>226</td>\n",
       "      <td>161.3</td>\n",
       "      <td>13</td>\n",
       "      <td>2015-06-11</td>\n",
       "      <td>2015</td>\n",
       "      <td>6</td>\n",
       "      <td>24</td>\n",
       "      <td>3</td>\n",
       "    </tr>\n",
       "  </tbody>\n",
       "</table>\n",
       "</div>"
      ],
      "text/plain": [
       "        State   HighQ  HighQN    MedQ  MedQN   LowQ  LowQN       date  year  \\\n",
       "4997  Wyoming  313.72     148  317.38    226  161.3     13 2015-06-07  2015   \n",
       "5762  Wyoming  313.72     148  317.38    226  161.3     13 2015-06-08  2015   \n",
       "6527  Wyoming  313.72     148  317.38    226  161.3     13 2015-06-09  2015   \n",
       "7343  Wyoming  313.72     148  317.38    226  161.3     13 2015-06-10  2015   \n",
       "8159  Wyoming  313.72     148  317.38    226  161.3     13 2015-06-11  2015   \n",
       "\n",
       "      month  week  weekday  \n",
       "4997      6    23        6  \n",
       "5762      6    24        0  \n",
       "6527      6    24        1  \n",
       "7343      6    24        2  \n",
       "8159      6    24        3  "
      ]
     },
     "execution_count": 12,
     "metadata": {},
     "output_type": "execute_result"
    }
   ],
   "source": [
    "df.tail()"
   ]
  },
  {
   "cell_type": "code",
   "execution_count": 13,
   "metadata": {
    "collapsed": false
   },
   "outputs": [
    {
     "data": {
      "text/plain": [
       "2014    18564\n",
       "2015     4080\n",
       "2013      255\n",
       "dtype: int64"
      ]
     },
     "execution_count": 13,
     "metadata": {},
     "output_type": "execute_result"
    }
   ],
   "source": [
    "df['year'].value_counts()"
   ]
  },
  {
   "cell_type": "code",
   "execution_count": 14,
   "metadata": {
    "collapsed": false
   },
   "outputs": [
    {
     "data": {
      "text/plain": [
       "1     3162\n",
       "5     2703\n",
       "2     2244\n",
       "6     2091\n",
       "12    1836\n",
       "10    1581\n",
       "7     1581\n",
       "3     1581\n",
       "11    1530\n",
       "9     1530\n",
       "8     1530\n",
       "4     1530\n",
       "dtype: int64"
      ]
     },
     "execution_count": 14,
     "metadata": {},
     "output_type": "execute_result"
    }
   ],
   "source": [
    "df['month'].value_counts()"
   ]
  },
  {
   "cell_type": "code",
   "execution_count": 15,
   "metadata": {
    "collapsed": false
   },
   "outputs": [
    {
     "data": {
      "text/plain": [
       "6    3315\n",
       "0    3315\n",
       "4    3264\n",
       "3    3264\n",
       "2    3264\n",
       "1    3264\n",
       "5    3213\n",
       "dtype: int64"
      ]
     },
     "execution_count": 15,
     "metadata": {},
     "output_type": "execute_result"
    }
   ],
   "source": [
    "df[\"weekday\"].value_counts()"
   ]
  },
  {
   "cell_type": "markdown",
   "metadata": {},
   "source": [
    "## 2.4 Aggregate the Data\n",
    "\n",
    "To aggregate, we typically use the “group by” function, which involves the following steps\n",
    "\n",
    "- Splitting the data into groups based on some criteria\n",
    "- Applying a function to each group independently\n",
    "- Combining the results into a data structure"
   ]
  },
  {
   "cell_type": "code",
   "execution_count": 16,
   "metadata": {
    "collapsed": true
   },
   "outputs": [],
   "source": [
    "df_mean = df.groupby(\"State\", as_index=False).mean()"
   ]
  },
  {
   "cell_type": "code",
   "execution_count": 17,
   "metadata": {
    "collapsed": false
   },
   "outputs": [
    {
     "data": {
      "text/plain": [
       "(51, 11)"
      ]
     },
     "execution_count": 17,
     "metadata": {},
     "output_type": "execute_result"
    }
   ],
   "source": [
    "df_mean.shape"
   ]
  },
  {
   "cell_type": "code",
   "execution_count": 18,
   "metadata": {
    "collapsed": false
   },
   "outputs": [
    {
     "data": {
      "text/html": [
       "<div>\n",
       "<table border=\"1\" class=\"dataframe\">\n",
       "  <thead>\n",
       "    <tr style=\"text-align: right;\">\n",
       "      <th></th>\n",
       "      <th>State</th>\n",
       "      <th>HighQ</th>\n",
       "      <th>HighQN</th>\n",
       "      <th>MedQ</th>\n",
       "      <th>MedQN</th>\n",
       "      <th>LowQ</th>\n",
       "      <th>LowQN</th>\n",
       "      <th>year</th>\n",
       "      <th>month</th>\n",
       "      <th>week</th>\n",
       "      <th>weekday</th>\n",
       "    </tr>\n",
       "  </thead>\n",
       "  <tbody>\n",
       "    <tr>\n",
       "      <th>0</th>\n",
       "      <td>Alabama</td>\n",
       "      <td>339.561849</td>\n",
       "      <td>1379.414254</td>\n",
       "      <td>204.606169</td>\n",
       "      <td>1270.351893</td>\n",
       "      <td>145.978508</td>\n",
       "      <td>161.149220</td>\n",
       "      <td>2014.167038</td>\n",
       "      <td>5.953229</td>\n",
       "      <td>23.812918</td>\n",
       "      <td>2.995546</td>\n",
       "    </tr>\n",
       "    <tr>\n",
       "      <th>1</th>\n",
       "      <td>Alaska</td>\n",
       "      <td>291.482004</td>\n",
       "      <td>321.244989</td>\n",
       "      <td>262.046392</td>\n",
       "      <td>407.917595</td>\n",
       "      <td>394.653964</td>\n",
       "      <td>32.334076</td>\n",
       "      <td>2014.167038</td>\n",
       "      <td>5.953229</td>\n",
       "      <td>23.812918</td>\n",
       "      <td>2.995546</td>\n",
       "    </tr>\n",
       "    <tr>\n",
       "      <th>2</th>\n",
       "      <td>Arizona</td>\n",
       "      <td>300.667483</td>\n",
       "      <td>2392.465479</td>\n",
       "      <td>209.365345</td>\n",
       "      <td>2137.414254</td>\n",
       "      <td>188.500134</td>\n",
       "      <td>279.006682</td>\n",
       "      <td>2014.167038</td>\n",
       "      <td>5.953229</td>\n",
       "      <td>23.812918</td>\n",
       "      <td>2.995546</td>\n",
       "    </tr>\n",
       "    <tr>\n",
       "      <th>3</th>\n",
       "      <td>Arkansas</td>\n",
       "      <td>348.056147</td>\n",
       "      <td>751.988864</td>\n",
       "      <td>190.414655</td>\n",
       "      <td>724.683742</td>\n",
       "      <td>126.771269</td>\n",
       "      <td>135.902004</td>\n",
       "      <td>2014.167038</td>\n",
       "      <td>5.953229</td>\n",
       "      <td>23.812918</td>\n",
       "      <td>2.995546</td>\n",
       "    </tr>\n",
       "    <tr>\n",
       "      <th>4</th>\n",
       "      <td>California</td>\n",
       "      <td>245.376125</td>\n",
       "      <td>14947.073497</td>\n",
       "      <td>191.268909</td>\n",
       "      <td>16769.821826</td>\n",
       "      <td>189.783586</td>\n",
       "      <td>976.298441</td>\n",
       "      <td>2014.167038</td>\n",
       "      <td>5.953229</td>\n",
       "      <td>23.812918</td>\n",
       "      <td>2.995546</td>\n",
       "    </tr>\n",
       "  </tbody>\n",
       "</table>\n",
       "</div>"
      ],
      "text/plain": [
       "        State       HighQ        HighQN        MedQ         MedQN        LowQ  \\\n",
       "0     Alabama  339.561849   1379.414254  204.606169   1270.351893  145.978508   \n",
       "1      Alaska  291.482004    321.244989  262.046392    407.917595  394.653964   \n",
       "2     Arizona  300.667483   2392.465479  209.365345   2137.414254  188.500134   \n",
       "3    Arkansas  348.056147    751.988864  190.414655    724.683742  126.771269   \n",
       "4  California  245.376125  14947.073497  191.268909  16769.821826  189.783586   \n",
       "\n",
       "        LowQN         year     month       week   weekday  \n",
       "0  161.149220  2014.167038  5.953229  23.812918  2.995546  \n",
       "1   32.334076  2014.167038  5.953229  23.812918  2.995546  \n",
       "2  279.006682  2014.167038  5.953229  23.812918  2.995546  \n",
       "3  135.902004  2014.167038  5.953229  23.812918  2.995546  \n",
       "4  976.298441  2014.167038  5.953229  23.812918  2.995546  "
      ]
     },
     "execution_count": 18,
     "metadata": {},
     "output_type": "execute_result"
    }
   ],
   "source": [
    "df_mean.head()"
   ]
  },
  {
   "cell_type": "markdown",
   "metadata": {},
   "source": [
    "Add Pivot table examples and exercise"
   ]
  },
  {
   "cell_type": "code",
   "execution_count": null,
   "metadata": {
    "collapsed": true
   },
   "outputs": [],
   "source": []
  },
  {
   "cell_type": "markdown",
   "metadata": {},
   "source": [
    "## 2.5 Derive the Data\n",
    "\n",
    "Lets us load the demographic dataset and create a new column for others in the population"
   ]
  },
  {
   "cell_type": "code",
   "execution_count": 19,
   "metadata": {
    "collapsed": false
   },
   "outputs": [],
   "source": [
    "df_demo = pd.read_csv(\"data/Demographics_State.csv\")"
   ]
  },
  {
   "cell_type": "code",
   "execution_count": 20,
   "metadata": {
    "collapsed": false
   },
   "outputs": [
    {
     "data": {
      "text/html": [
       "<div>\n",
       "<table border=\"1\" class=\"dataframe\">\n",
       "  <thead>\n",
       "    <tr style=\"text-align: right;\">\n",
       "      <th></th>\n",
       "      <th>region</th>\n",
       "      <th>total_population</th>\n",
       "      <th>percent_white</th>\n",
       "      <th>percent_black</th>\n",
       "      <th>percent_asian</th>\n",
       "      <th>percent_hispanic</th>\n",
       "      <th>per_capita_income</th>\n",
       "      <th>median_rent</th>\n",
       "      <th>median_age</th>\n",
       "    </tr>\n",
       "  </thead>\n",
       "  <tbody>\n",
       "    <tr>\n",
       "      <th>0</th>\n",
       "      <td>alabama</td>\n",
       "      <td>4799277</td>\n",
       "      <td>67</td>\n",
       "      <td>26</td>\n",
       "      <td>1</td>\n",
       "      <td>4</td>\n",
       "      <td>23680</td>\n",
       "      <td>501</td>\n",
       "      <td>38.1</td>\n",
       "    </tr>\n",
       "    <tr>\n",
       "      <th>1</th>\n",
       "      <td>alaska</td>\n",
       "      <td>720316</td>\n",
       "      <td>63</td>\n",
       "      <td>3</td>\n",
       "      <td>5</td>\n",
       "      <td>6</td>\n",
       "      <td>32651</td>\n",
       "      <td>978</td>\n",
       "      <td>33.6</td>\n",
       "    </tr>\n",
       "    <tr>\n",
       "      <th>2</th>\n",
       "      <td>arizona</td>\n",
       "      <td>6479703</td>\n",
       "      <td>57</td>\n",
       "      <td>4</td>\n",
       "      <td>3</td>\n",
       "      <td>30</td>\n",
       "      <td>25358</td>\n",
       "      <td>747</td>\n",
       "      <td>36.3</td>\n",
       "    </tr>\n",
       "    <tr>\n",
       "      <th>3</th>\n",
       "      <td>arkansas</td>\n",
       "      <td>2933369</td>\n",
       "      <td>74</td>\n",
       "      <td>15</td>\n",
       "      <td>1</td>\n",
       "      <td>7</td>\n",
       "      <td>22170</td>\n",
       "      <td>480</td>\n",
       "      <td>37.5</td>\n",
       "    </tr>\n",
       "    <tr>\n",
       "      <th>4</th>\n",
       "      <td>california</td>\n",
       "      <td>37659181</td>\n",
       "      <td>40</td>\n",
       "      <td>6</td>\n",
       "      <td>13</td>\n",
       "      <td>38</td>\n",
       "      <td>29527</td>\n",
       "      <td>1119</td>\n",
       "      <td>35.4</td>\n",
       "    </tr>\n",
       "  </tbody>\n",
       "</table>\n",
       "</div>"
      ],
      "text/plain": [
       "       region  total_population  percent_white  percent_black  percent_asian  \\\n",
       "0     alabama           4799277             67             26              1   \n",
       "1      alaska            720316             63              3              5   \n",
       "2     arizona           6479703             57              4              3   \n",
       "3    arkansas           2933369             74             15              1   \n",
       "4  california          37659181             40              6             13   \n",
       "\n",
       "   percent_hispanic  per_capita_income  median_rent  median_age  \n",
       "0                 4              23680          501        38.1  \n",
       "1                 6              32651          978        33.6  \n",
       "2                30              25358          747        36.3  \n",
       "3                 7              22170          480        37.5  \n",
       "4                38              29527         1119        35.4  "
      ]
     },
     "execution_count": 20,
     "metadata": {},
     "output_type": "execute_result"
    }
   ],
   "source": [
    "df_demo.head()"
   ]
  },
  {
   "cell_type": "code",
   "execution_count": 21,
   "metadata": {
    "collapsed": false
   },
   "outputs": [],
   "source": [
    "df_demo[\"percent_other\"] = 100 - df_demo[\"percent_white\"] - df_demo[\"percent_black\"] - df_demo[\"percent_asian\"] - df_demo[\"percent_hispanic\"]"
   ]
  },
  {
   "cell_type": "code",
   "execution_count": 22,
   "metadata": {
    "collapsed": false
   },
   "outputs": [
    {
     "data": {
      "text/html": [
       "<div>\n",
       "<table border=\"1\" class=\"dataframe\">\n",
       "  <thead>\n",
       "    <tr style=\"text-align: right;\">\n",
       "      <th></th>\n",
       "      <th>region</th>\n",
       "      <th>total_population</th>\n",
       "      <th>percent_white</th>\n",
       "      <th>percent_black</th>\n",
       "      <th>percent_asian</th>\n",
       "      <th>percent_hispanic</th>\n",
       "      <th>per_capita_income</th>\n",
       "      <th>median_rent</th>\n",
       "      <th>median_age</th>\n",
       "      <th>percent_other</th>\n",
       "    </tr>\n",
       "  </thead>\n",
       "  <tbody>\n",
       "    <tr>\n",
       "      <th>0</th>\n",
       "      <td>alabama</td>\n",
       "      <td>4799277</td>\n",
       "      <td>67</td>\n",
       "      <td>26</td>\n",
       "      <td>1</td>\n",
       "      <td>4</td>\n",
       "      <td>23680</td>\n",
       "      <td>501</td>\n",
       "      <td>38.1</td>\n",
       "      <td>2</td>\n",
       "    </tr>\n",
       "    <tr>\n",
       "      <th>1</th>\n",
       "      <td>alaska</td>\n",
       "      <td>720316</td>\n",
       "      <td>63</td>\n",
       "      <td>3</td>\n",
       "      <td>5</td>\n",
       "      <td>6</td>\n",
       "      <td>32651</td>\n",
       "      <td>978</td>\n",
       "      <td>33.6</td>\n",
       "      <td>23</td>\n",
       "    </tr>\n",
       "    <tr>\n",
       "      <th>2</th>\n",
       "      <td>arizona</td>\n",
       "      <td>6479703</td>\n",
       "      <td>57</td>\n",
       "      <td>4</td>\n",
       "      <td>3</td>\n",
       "      <td>30</td>\n",
       "      <td>25358</td>\n",
       "      <td>747</td>\n",
       "      <td>36.3</td>\n",
       "      <td>6</td>\n",
       "    </tr>\n",
       "    <tr>\n",
       "      <th>3</th>\n",
       "      <td>arkansas</td>\n",
       "      <td>2933369</td>\n",
       "      <td>74</td>\n",
       "      <td>15</td>\n",
       "      <td>1</td>\n",
       "      <td>7</td>\n",
       "      <td>22170</td>\n",
       "      <td>480</td>\n",
       "      <td>37.5</td>\n",
       "      <td>3</td>\n",
       "    </tr>\n",
       "    <tr>\n",
       "      <th>4</th>\n",
       "      <td>california</td>\n",
       "      <td>37659181</td>\n",
       "      <td>40</td>\n",
       "      <td>6</td>\n",
       "      <td>13</td>\n",
       "      <td>38</td>\n",
       "      <td>29527</td>\n",
       "      <td>1119</td>\n",
       "      <td>35.4</td>\n",
       "      <td>3</td>\n",
       "    </tr>\n",
       "  </tbody>\n",
       "</table>\n",
       "</div>"
      ],
      "text/plain": [
       "       region  total_population  percent_white  percent_black  percent_asian  \\\n",
       "0     alabama           4799277             67             26              1   \n",
       "1      alaska            720316             63              3              5   \n",
       "2     arizona           6479703             57              4              3   \n",
       "3    arkansas           2933369             74             15              1   \n",
       "4  california          37659181             40              6             13   \n",
       "\n",
       "   percent_hispanic  per_capita_income  median_rent  median_age  percent_other  \n",
       "0                 4              23680          501        38.1              2  \n",
       "1                 6              32651          978        33.6             23  \n",
       "2                30              25358          747        36.3              6  \n",
       "3                 7              22170          480        37.5              3  \n",
       "4                38              29527         1119        35.4              3  "
      ]
     },
     "execution_count": 22,
     "metadata": {},
     "output_type": "execute_result"
    }
   ],
   "source": [
    "df_demo.head()"
   ]
  },
  {
   "cell_type": "markdown",
   "metadata": {},
   "source": [
    "Add an exercise?"
   ]
  },
  {
   "cell_type": "markdown",
   "metadata": {},
   "source": [
    "## 2.6 Merge the Data \n",
    "\n",
    "Lets merge the demographic dataset with the price dataset"
   ]
  },
  {
   "cell_type": "code",
   "execution_count": 23,
   "metadata": {
    "collapsed": true
   },
   "outputs": [],
   "source": [
    "# Let us change the column name region to State\n",
    "df_demo = df_demo.rename(columns={'region':'State'})"
   ]
  },
  {
   "cell_type": "code",
   "execution_count": 24,
   "metadata": {
    "collapsed": false
   },
   "outputs": [
    {
     "data": {
      "text/html": [
       "<div>\n",
       "<table border=\"1\" class=\"dataframe\">\n",
       "  <thead>\n",
       "    <tr style=\"text-align: right;\">\n",
       "      <th></th>\n",
       "      <th>State</th>\n",
       "      <th>total_population</th>\n",
       "      <th>percent_white</th>\n",
       "      <th>percent_black</th>\n",
       "      <th>percent_asian</th>\n",
       "      <th>percent_hispanic</th>\n",
       "      <th>per_capita_income</th>\n",
       "      <th>median_rent</th>\n",
       "      <th>median_age</th>\n",
       "      <th>percent_other</th>\n",
       "    </tr>\n",
       "  </thead>\n",
       "  <tbody>\n",
       "    <tr>\n",
       "      <th>0</th>\n",
       "      <td>alabama</td>\n",
       "      <td>4799277</td>\n",
       "      <td>67</td>\n",
       "      <td>26</td>\n",
       "      <td>1</td>\n",
       "      <td>4</td>\n",
       "      <td>23680</td>\n",
       "      <td>501</td>\n",
       "      <td>38.1</td>\n",
       "      <td>2</td>\n",
       "    </tr>\n",
       "    <tr>\n",
       "      <th>1</th>\n",
       "      <td>alaska</td>\n",
       "      <td>720316</td>\n",
       "      <td>63</td>\n",
       "      <td>3</td>\n",
       "      <td>5</td>\n",
       "      <td>6</td>\n",
       "      <td>32651</td>\n",
       "      <td>978</td>\n",
       "      <td>33.6</td>\n",
       "      <td>23</td>\n",
       "    </tr>\n",
       "    <tr>\n",
       "      <th>2</th>\n",
       "      <td>arizona</td>\n",
       "      <td>6479703</td>\n",
       "      <td>57</td>\n",
       "      <td>4</td>\n",
       "      <td>3</td>\n",
       "      <td>30</td>\n",
       "      <td>25358</td>\n",
       "      <td>747</td>\n",
       "      <td>36.3</td>\n",
       "      <td>6</td>\n",
       "    </tr>\n",
       "    <tr>\n",
       "      <th>3</th>\n",
       "      <td>arkansas</td>\n",
       "      <td>2933369</td>\n",
       "      <td>74</td>\n",
       "      <td>15</td>\n",
       "      <td>1</td>\n",
       "      <td>7</td>\n",
       "      <td>22170</td>\n",
       "      <td>480</td>\n",
       "      <td>37.5</td>\n",
       "      <td>3</td>\n",
       "    </tr>\n",
       "    <tr>\n",
       "      <th>4</th>\n",
       "      <td>california</td>\n",
       "      <td>37659181</td>\n",
       "      <td>40</td>\n",
       "      <td>6</td>\n",
       "      <td>13</td>\n",
       "      <td>38</td>\n",
       "      <td>29527</td>\n",
       "      <td>1119</td>\n",
       "      <td>35.4</td>\n",
       "      <td>3</td>\n",
       "    </tr>\n",
       "  </tbody>\n",
       "</table>\n",
       "</div>"
      ],
      "text/plain": [
       "        State  total_population  percent_white  percent_black  percent_asian  \\\n",
       "0     alabama           4799277             67             26              1   \n",
       "1      alaska            720316             63              3              5   \n",
       "2     arizona           6479703             57              4              3   \n",
       "3    arkansas           2933369             74             15              1   \n",
       "4  california          37659181             40              6             13   \n",
       "\n",
       "   percent_hispanic  per_capita_income  median_rent  median_age  percent_other  \n",
       "0                 4              23680          501        38.1              2  \n",
       "1                 6              32651          978        33.6             23  \n",
       "2                30              25358          747        36.3              6  \n",
       "3                 7              22170          480        37.5              3  \n",
       "4                38              29527         1119        35.4              3  "
      ]
     },
     "execution_count": 24,
     "metadata": {},
     "output_type": "execute_result"
    }
   ],
   "source": [
    "df_demo.head()"
   ]
  },
  {
   "cell_type": "code",
   "execution_count": 26,
   "metadata": {
    "collapsed": false
   },
   "outputs": [
    {
     "data": {
      "text/html": [
       "<div>\n",
       "<table border=\"1\" class=\"dataframe\">\n",
       "  <thead>\n",
       "    <tr style=\"text-align: right;\">\n",
       "      <th></th>\n",
       "      <th>State</th>\n",
       "      <th>HighQ</th>\n",
       "      <th>HighQN</th>\n",
       "      <th>MedQ</th>\n",
       "      <th>MedQN</th>\n",
       "      <th>LowQ</th>\n",
       "      <th>LowQN</th>\n",
       "      <th>year</th>\n",
       "      <th>month</th>\n",
       "      <th>week</th>\n",
       "      <th>weekday</th>\n",
       "      <th>total_population</th>\n",
       "      <th>percent_white</th>\n",
       "      <th>percent_black</th>\n",
       "      <th>percent_asian</th>\n",
       "      <th>percent_hispanic</th>\n",
       "      <th>per_capita_income</th>\n",
       "      <th>median_rent</th>\n",
       "      <th>median_age</th>\n",
       "      <th>percent_other</th>\n",
       "    </tr>\n",
       "  </thead>\n",
       "  <tbody>\n",
       "  </tbody>\n",
       "</table>\n",
       "</div>"
      ],
      "text/plain": [
       "Empty DataFrame\n",
       "Columns: [State, HighQ, HighQN, MedQ, MedQN, LowQ, LowQN, year, month, week, weekday, total_population, percent_white, percent_black, percent_asian, percent_hispanic, per_capita_income, median_rent, median_age, percent_other]\n",
       "Index: []"
      ]
     },
     "execution_count": 26,
     "metadata": {},
     "output_type": "execute_result"
    }
   ],
   "source": [
    "# We can now merge Demographic and Price mean data into one single data frame\n",
    "df_merge = pd.merge(df_mean, df_demo, how='inner', on='State')\n",
    "df_merge.head()"
   ]
  },
  {
   "cell_type": "markdown",
   "metadata": {},
   "source": [
    "What happened? Why is there no data in the dataframe?"
   ]
  },
  {
   "cell_type": "code",
   "execution_count": 27,
   "metadata": {
    "collapsed": true
   },
   "outputs": [],
   "source": [
    "# Change the State in df_mean to lower case\n",
    "df_mean['State'] = df_mean['State'].str.lower()"
   ]
  },
  {
   "cell_type": "code",
   "execution_count": 28,
   "metadata": {
    "collapsed": false
   },
   "outputs": [
    {
     "data": {
      "text/html": [
       "<div>\n",
       "<table border=\"1\" class=\"dataframe\">\n",
       "  <thead>\n",
       "    <tr style=\"text-align: right;\">\n",
       "      <th></th>\n",
       "      <th>State</th>\n",
       "      <th>HighQ</th>\n",
       "      <th>HighQN</th>\n",
       "      <th>MedQ</th>\n",
       "      <th>MedQN</th>\n",
       "      <th>LowQ</th>\n",
       "      <th>LowQN</th>\n",
       "      <th>year</th>\n",
       "      <th>month</th>\n",
       "      <th>week</th>\n",
       "      <th>weekday</th>\n",
       "    </tr>\n",
       "  </thead>\n",
       "  <tbody>\n",
       "    <tr>\n",
       "      <th>0</th>\n",
       "      <td>alabama</td>\n",
       "      <td>339.561849</td>\n",
       "      <td>1379.414254</td>\n",
       "      <td>204.606169</td>\n",
       "      <td>1270.351893</td>\n",
       "      <td>145.978508</td>\n",
       "      <td>161.149220</td>\n",
       "      <td>2014.167038</td>\n",
       "      <td>5.953229</td>\n",
       "      <td>23.812918</td>\n",
       "      <td>2.995546</td>\n",
       "    </tr>\n",
       "    <tr>\n",
       "      <th>1</th>\n",
       "      <td>alaska</td>\n",
       "      <td>291.482004</td>\n",
       "      <td>321.244989</td>\n",
       "      <td>262.046392</td>\n",
       "      <td>407.917595</td>\n",
       "      <td>394.653964</td>\n",
       "      <td>32.334076</td>\n",
       "      <td>2014.167038</td>\n",
       "      <td>5.953229</td>\n",
       "      <td>23.812918</td>\n",
       "      <td>2.995546</td>\n",
       "    </tr>\n",
       "    <tr>\n",
       "      <th>2</th>\n",
       "      <td>arizona</td>\n",
       "      <td>300.667483</td>\n",
       "      <td>2392.465479</td>\n",
       "      <td>209.365345</td>\n",
       "      <td>2137.414254</td>\n",
       "      <td>188.500134</td>\n",
       "      <td>279.006682</td>\n",
       "      <td>2014.167038</td>\n",
       "      <td>5.953229</td>\n",
       "      <td>23.812918</td>\n",
       "      <td>2.995546</td>\n",
       "    </tr>\n",
       "    <tr>\n",
       "      <th>3</th>\n",
       "      <td>arkansas</td>\n",
       "      <td>348.056147</td>\n",
       "      <td>751.988864</td>\n",
       "      <td>190.414655</td>\n",
       "      <td>724.683742</td>\n",
       "      <td>126.771269</td>\n",
       "      <td>135.902004</td>\n",
       "      <td>2014.167038</td>\n",
       "      <td>5.953229</td>\n",
       "      <td>23.812918</td>\n",
       "      <td>2.995546</td>\n",
       "    </tr>\n",
       "    <tr>\n",
       "      <th>4</th>\n",
       "      <td>california</td>\n",
       "      <td>245.376125</td>\n",
       "      <td>14947.073497</td>\n",
       "      <td>191.268909</td>\n",
       "      <td>16769.821826</td>\n",
       "      <td>189.783586</td>\n",
       "      <td>976.298441</td>\n",
       "      <td>2014.167038</td>\n",
       "      <td>5.953229</td>\n",
       "      <td>23.812918</td>\n",
       "      <td>2.995546</td>\n",
       "    </tr>\n",
       "  </tbody>\n",
       "</table>\n",
       "</div>"
      ],
      "text/plain": [
       "        State       HighQ        HighQN        MedQ         MedQN        LowQ  \\\n",
       "0     alabama  339.561849   1379.414254  204.606169   1270.351893  145.978508   \n",
       "1      alaska  291.482004    321.244989  262.046392    407.917595  394.653964   \n",
       "2     arizona  300.667483   2392.465479  209.365345   2137.414254  188.500134   \n",
       "3    arkansas  348.056147    751.988864  190.414655    724.683742  126.771269   \n",
       "4  california  245.376125  14947.073497  191.268909  16769.821826  189.783586   \n",
       "\n",
       "        LowQN         year     month       week   weekday  \n",
       "0  161.149220  2014.167038  5.953229  23.812918  2.995546  \n",
       "1   32.334076  2014.167038  5.953229  23.812918  2.995546  \n",
       "2  279.006682  2014.167038  5.953229  23.812918  2.995546  \n",
       "3  135.902004  2014.167038  5.953229  23.812918  2.995546  \n",
       "4  976.298441  2014.167038  5.953229  23.812918  2.995546  "
      ]
     },
     "execution_count": 28,
     "metadata": {},
     "output_type": "execute_result"
    }
   ],
   "source": [
    "df_mean.head()"
   ]
  },
  {
   "cell_type": "code",
   "execution_count": 29,
   "metadata": {
    "collapsed": false
   },
   "outputs": [],
   "source": [
    "# We can now merge Demographic and Price mean data into one single data frame\n",
    "df_merge = pd.merge(df_mean, df_demo, how='inner', on='State')"
   ]
  },
  {
   "cell_type": "code",
   "execution_count": 30,
   "metadata": {
    "collapsed": false,
    "scrolled": false
   },
   "outputs": [
    {
     "data": {
      "text/html": [
       "<div>\n",
       "<table border=\"1\" class=\"dataframe\">\n",
       "  <thead>\n",
       "    <tr style=\"text-align: right;\">\n",
       "      <th></th>\n",
       "      <th>State</th>\n",
       "      <th>HighQ</th>\n",
       "      <th>HighQN</th>\n",
       "      <th>MedQ</th>\n",
       "      <th>MedQN</th>\n",
       "      <th>LowQ</th>\n",
       "      <th>LowQN</th>\n",
       "      <th>year</th>\n",
       "      <th>month</th>\n",
       "      <th>week</th>\n",
       "      <th>weekday</th>\n",
       "      <th>total_population</th>\n",
       "      <th>percent_white</th>\n",
       "      <th>percent_black</th>\n",
       "      <th>percent_asian</th>\n",
       "      <th>percent_hispanic</th>\n",
       "      <th>per_capita_income</th>\n",
       "      <th>median_rent</th>\n",
       "      <th>median_age</th>\n",
       "      <th>percent_other</th>\n",
       "    </tr>\n",
       "  </thead>\n",
       "  <tbody>\n",
       "    <tr>\n",
       "      <th>0</th>\n",
       "      <td>alabama</td>\n",
       "      <td>339.561849</td>\n",
       "      <td>1379.414254</td>\n",
       "      <td>204.606169</td>\n",
       "      <td>1270.351893</td>\n",
       "      <td>145.978508</td>\n",
       "      <td>161.149220</td>\n",
       "      <td>2014.167038</td>\n",
       "      <td>5.953229</td>\n",
       "      <td>23.812918</td>\n",
       "      <td>2.995546</td>\n",
       "      <td>4799277</td>\n",
       "      <td>67</td>\n",
       "      <td>26</td>\n",
       "      <td>1</td>\n",
       "      <td>4</td>\n",
       "      <td>23680</td>\n",
       "      <td>501</td>\n",
       "      <td>38.1</td>\n",
       "      <td>2</td>\n",
       "    </tr>\n",
       "    <tr>\n",
       "      <th>1</th>\n",
       "      <td>alaska</td>\n",
       "      <td>291.482004</td>\n",
       "      <td>321.244989</td>\n",
       "      <td>262.046392</td>\n",
       "      <td>407.917595</td>\n",
       "      <td>394.653964</td>\n",
       "      <td>32.334076</td>\n",
       "      <td>2014.167038</td>\n",
       "      <td>5.953229</td>\n",
       "      <td>23.812918</td>\n",
       "      <td>2.995546</td>\n",
       "      <td>720316</td>\n",
       "      <td>63</td>\n",
       "      <td>3</td>\n",
       "      <td>5</td>\n",
       "      <td>6</td>\n",
       "      <td>32651</td>\n",
       "      <td>978</td>\n",
       "      <td>33.6</td>\n",
       "      <td>23</td>\n",
       "    </tr>\n",
       "    <tr>\n",
       "      <th>2</th>\n",
       "      <td>arizona</td>\n",
       "      <td>300.667483</td>\n",
       "      <td>2392.465479</td>\n",
       "      <td>209.365345</td>\n",
       "      <td>2137.414254</td>\n",
       "      <td>188.500134</td>\n",
       "      <td>279.006682</td>\n",
       "      <td>2014.167038</td>\n",
       "      <td>5.953229</td>\n",
       "      <td>23.812918</td>\n",
       "      <td>2.995546</td>\n",
       "      <td>6479703</td>\n",
       "      <td>57</td>\n",
       "      <td>4</td>\n",
       "      <td>3</td>\n",
       "      <td>30</td>\n",
       "      <td>25358</td>\n",
       "      <td>747</td>\n",
       "      <td>36.3</td>\n",
       "      <td>6</td>\n",
       "    </tr>\n",
       "    <tr>\n",
       "      <th>3</th>\n",
       "      <td>arkansas</td>\n",
       "      <td>348.056147</td>\n",
       "      <td>751.988864</td>\n",
       "      <td>190.414655</td>\n",
       "      <td>724.683742</td>\n",
       "      <td>126.771269</td>\n",
       "      <td>135.902004</td>\n",
       "      <td>2014.167038</td>\n",
       "      <td>5.953229</td>\n",
       "      <td>23.812918</td>\n",
       "      <td>2.995546</td>\n",
       "      <td>2933369</td>\n",
       "      <td>74</td>\n",
       "      <td>15</td>\n",
       "      <td>1</td>\n",
       "      <td>7</td>\n",
       "      <td>22170</td>\n",
       "      <td>480</td>\n",
       "      <td>37.5</td>\n",
       "      <td>3</td>\n",
       "    </tr>\n",
       "    <tr>\n",
       "      <th>4</th>\n",
       "      <td>california</td>\n",
       "      <td>245.376125</td>\n",
       "      <td>14947.073497</td>\n",
       "      <td>191.268909</td>\n",
       "      <td>16769.821826</td>\n",
       "      <td>189.783586</td>\n",
       "      <td>976.298441</td>\n",
       "      <td>2014.167038</td>\n",
       "      <td>5.953229</td>\n",
       "      <td>23.812918</td>\n",
       "      <td>2.995546</td>\n",
       "      <td>37659181</td>\n",
       "      <td>40</td>\n",
       "      <td>6</td>\n",
       "      <td>13</td>\n",
       "      <td>38</td>\n",
       "      <td>29527</td>\n",
       "      <td>1119</td>\n",
       "      <td>35.4</td>\n",
       "      <td>3</td>\n",
       "    </tr>\n",
       "  </tbody>\n",
       "</table>\n",
       "</div>"
      ],
      "text/plain": [
       "        State       HighQ        HighQN        MedQ         MedQN        LowQ  \\\n",
       "0     alabama  339.561849   1379.414254  204.606169   1270.351893  145.978508   \n",
       "1      alaska  291.482004    321.244989  262.046392    407.917595  394.653964   \n",
       "2     arizona  300.667483   2392.465479  209.365345   2137.414254  188.500134   \n",
       "3    arkansas  348.056147    751.988864  190.414655    724.683742  126.771269   \n",
       "4  california  245.376125  14947.073497  191.268909  16769.821826  189.783586   \n",
       "\n",
       "        LowQN         year     month       week   weekday  total_population  \\\n",
       "0  161.149220  2014.167038  5.953229  23.812918  2.995546           4799277   \n",
       "1   32.334076  2014.167038  5.953229  23.812918  2.995546            720316   \n",
       "2  279.006682  2014.167038  5.953229  23.812918  2.995546           6479703   \n",
       "3  135.902004  2014.167038  5.953229  23.812918  2.995546           2933369   \n",
       "4  976.298441  2014.167038  5.953229  23.812918  2.995546          37659181   \n",
       "\n",
       "   percent_white  percent_black  percent_asian  percent_hispanic  \\\n",
       "0             67             26              1                 4   \n",
       "1             63              3              5                 6   \n",
       "2             57              4              3                30   \n",
       "3             74             15              1                 7   \n",
       "4             40              6             13                38   \n",
       "\n",
       "   per_capita_income  median_rent  median_age  percent_other  \n",
       "0              23680          501        38.1              2  \n",
       "1              32651          978        33.6             23  \n",
       "2              25358          747        36.3              6  \n",
       "3              22170          480        37.5              3  \n",
       "4              29527         1119        35.4              3  "
      ]
     },
     "execution_count": 30,
     "metadata": {},
     "output_type": "execute_result"
    }
   ],
   "source": [
    "df_merge.head()"
   ]
  },
  {
   "cell_type": "markdown",
   "metadata": {},
   "source": [
    "## 2.7 Filter the Data\n",
    "\n",
    "Lets start by filtering the data \n",
    "- by location\n",
    "- by Year\n",
    "- by location & Year"
   ]
  },
  {
   "cell_type": "code",
   "execution_count": 31,
   "metadata": {
    "collapsed": false
   },
   "outputs": [],
   "source": [
    "# Filter data for location California\n",
    "df_cal = df[df[\"State\"] == \"California\"]"
   ]
  },
  {
   "cell_type": "code",
   "execution_count": 32,
   "metadata": {
    "collapsed": false
   },
   "outputs": [
    {
     "data": {
      "text/plain": [
       "(449, 12)"
      ]
     },
     "execution_count": 32,
     "metadata": {},
     "output_type": "execute_result"
    }
   ],
   "source": [
    "df_cal.shape"
   ]
  },
  {
   "cell_type": "code",
   "execution_count": 33,
   "metadata": {
    "collapsed": false
   },
   "outputs": [],
   "source": [
    "# Filter data for year\n",
    "df_2014 = df[df[\"year\"] == 2014]"
   ]
  },
  {
   "cell_type": "code",
   "execution_count": 34,
   "metadata": {
    "collapsed": false
   },
   "outputs": [
    {
     "data": {
      "text/plain": [
       "(18564, 12)"
      ]
     },
     "execution_count": 34,
     "metadata": {},
     "output_type": "execute_result"
    }
   ],
   "source": [
    "df_2014.shape"
   ]
  },
  {
   "cell_type": "code",
   "execution_count": 35,
   "metadata": {
    "collapsed": false
   },
   "outputs": [],
   "source": [
    "df_cal_2014 = df[(df[\"year\"] == 2014) & (df[\"State\"] == \"California\")]"
   ]
  },
  {
   "cell_type": "code",
   "execution_count": 36,
   "metadata": {
    "collapsed": false
   },
   "outputs": [
    {
     "data": {
      "text/plain": [
       "(364, 12)"
      ]
     },
     "execution_count": 36,
     "metadata": {},
     "output_type": "execute_result"
    }
   ],
   "source": [
    "df_cal_2014.shape"
   ]
  },
  {
   "cell_type": "code",
   "execution_count": 37,
   "metadata": {
    "collapsed": false
   },
   "outputs": [
    {
     "data": {
      "text/html": [
       "<div>\n",
       "<table border=\"1\" class=\"dataframe\">\n",
       "  <thead>\n",
       "    <tr style=\"text-align: right;\">\n",
       "      <th></th>\n",
       "      <th>State</th>\n",
       "      <th>HighQ</th>\n",
       "      <th>HighQN</th>\n",
       "      <th>MedQ</th>\n",
       "      <th>MedQN</th>\n",
       "      <th>LowQ</th>\n",
       "      <th>LowQN</th>\n",
       "      <th>date</th>\n",
       "      <th>year</th>\n",
       "      <th>month</th>\n",
       "      <th>week</th>\n",
       "      <th>weekday</th>\n",
       "    </tr>\n",
       "  </thead>\n",
       "  <tbody>\n",
       "    <tr>\n",
       "      <th>4</th>\n",
       "      <td>California</td>\n",
       "      <td>248.78</td>\n",
       "      <td>12096</td>\n",
       "      <td>193.56</td>\n",
       "      <td>12812</td>\n",
       "      <td>192.92</td>\n",
       "      <td>778</td>\n",
       "      <td>2014-01-01</td>\n",
       "      <td>2014</td>\n",
       "      <td>1</td>\n",
       "      <td>1</td>\n",
       "      <td>2</td>\n",
       "    </tr>\n",
       "    <tr>\n",
       "      <th>769</th>\n",
       "      <td>California</td>\n",
       "      <td>248.67</td>\n",
       "      <td>12125</td>\n",
       "      <td>193.56</td>\n",
       "      <td>12836</td>\n",
       "      <td>192.80</td>\n",
       "      <td>779</td>\n",
       "      <td>2014-01-02</td>\n",
       "      <td>2014</td>\n",
       "      <td>1</td>\n",
       "      <td>1</td>\n",
       "      <td>3</td>\n",
       "    </tr>\n",
       "    <tr>\n",
       "      <th>1483</th>\n",
       "      <td>California</td>\n",
       "      <td>248.67</td>\n",
       "      <td>12141</td>\n",
       "      <td>193.57</td>\n",
       "      <td>12853</td>\n",
       "      <td>192.67</td>\n",
       "      <td>782</td>\n",
       "      <td>2014-01-03</td>\n",
       "      <td>2014</td>\n",
       "      <td>1</td>\n",
       "      <td>1</td>\n",
       "      <td>4</td>\n",
       "    </tr>\n",
       "    <tr>\n",
       "      <th>2248</th>\n",
       "      <td>California</td>\n",
       "      <td>248.65</td>\n",
       "      <td>12155</td>\n",
       "      <td>193.59</td>\n",
       "      <td>12884</td>\n",
       "      <td>192.67</td>\n",
       "      <td>782</td>\n",
       "      <td>2014-01-04</td>\n",
       "      <td>2014</td>\n",
       "      <td>1</td>\n",
       "      <td>1</td>\n",
       "      <td>5</td>\n",
       "    </tr>\n",
       "    <tr>\n",
       "      <th>3013</th>\n",
       "      <td>California</td>\n",
       "      <td>248.68</td>\n",
       "      <td>12176</td>\n",
       "      <td>193.63</td>\n",
       "      <td>12902</td>\n",
       "      <td>192.67</td>\n",
       "      <td>782</td>\n",
       "      <td>2014-01-05</td>\n",
       "      <td>2014</td>\n",
       "      <td>1</td>\n",
       "      <td>1</td>\n",
       "      <td>6</td>\n",
       "    </tr>\n",
       "  </tbody>\n",
       "</table>\n",
       "</div>"
      ],
      "text/plain": [
       "           State   HighQ  HighQN    MedQ  MedQN    LowQ  LowQN       date  \\\n",
       "4     California  248.78   12096  193.56  12812  192.92    778 2014-01-01   \n",
       "769   California  248.67   12125  193.56  12836  192.80    779 2014-01-02   \n",
       "1483  California  248.67   12141  193.57  12853  192.67    782 2014-01-03   \n",
       "2248  California  248.65   12155  193.59  12884  192.67    782 2014-01-04   \n",
       "3013  California  248.68   12176  193.63  12902  192.67    782 2014-01-05   \n",
       "\n",
       "      year  month  week  weekday  \n",
       "4     2014      1     1        2  \n",
       "769   2014      1     1        3  \n",
       "1483  2014      1     1        4  \n",
       "2248  2014      1     1        5  \n",
       "3013  2014      1     1        6  "
      ]
     },
     "execution_count": 37,
     "metadata": {},
     "output_type": "execute_result"
    }
   ],
   "source": [
    "df_cal_2014.head()"
   ]
  },
  {
   "cell_type": "markdown",
   "metadata": {},
   "source": [
    "Exercise to get simple metrics???"
   ]
  },
  {
   "cell_type": "markdown",
   "metadata": {},
   "source": [
    "## 2.8 Summarise the Data\n",
    "\n",
    "We can use the describe function to get the summary stats for each column in the data frame"
   ]
  },
  {
   "cell_type": "code",
   "execution_count": 38,
   "metadata": {
    "collapsed": false
   },
   "outputs": [
    {
     "data": {
      "text/html": [
       "<div>\n",
       "<table border=\"1\" class=\"dataframe\">\n",
       "  <thead>\n",
       "    <tr style=\"text-align: right;\">\n",
       "      <th></th>\n",
       "      <th>HighQ</th>\n",
       "      <th>HighQN</th>\n",
       "      <th>MedQ</th>\n",
       "      <th>MedQN</th>\n",
       "      <th>LowQ</th>\n",
       "      <th>LowQN</th>\n",
       "      <th>year</th>\n",
       "      <th>month</th>\n",
       "      <th>week</th>\n",
       "      <th>weekday</th>\n",
       "    </tr>\n",
       "  </thead>\n",
       "  <tbody>\n",
       "    <tr>\n",
       "      <th>count</th>\n",
       "      <td>22899.000000</td>\n",
       "      <td>22899.000000</td>\n",
       "      <td>22899.000000</td>\n",
       "      <td>22899.000000</td>\n",
       "      <td>22899.000000</td>\n",
       "      <td>22899.000000</td>\n",
       "      <td>22899.000000</td>\n",
       "      <td>22899.000000</td>\n",
       "      <td>22899.000000</td>\n",
       "      <td>22899.000000</td>\n",
       "    </tr>\n",
       "    <tr>\n",
       "      <th>mean</th>\n",
       "      <td>329.759854</td>\n",
       "      <td>2274.743657</td>\n",
       "      <td>247.618306</td>\n",
       "      <td>2183.737805</td>\n",
       "      <td>203.624092</td>\n",
       "      <td>202.804489</td>\n",
       "      <td>2014.167038</td>\n",
       "      <td>5.953229</td>\n",
       "      <td>23.812918</td>\n",
       "      <td>2.995546</td>\n",
       "    </tr>\n",
       "    <tr>\n",
       "      <th>std</th>\n",
       "      <td>41.173167</td>\n",
       "      <td>2641.936586</td>\n",
       "      <td>44.276015</td>\n",
       "      <td>2789.902626</td>\n",
       "      <td>101.484265</td>\n",
       "      <td>220.531987</td>\n",
       "      <td>0.401765</td>\n",
       "      <td>3.553055</td>\n",
       "      <td>15.426018</td>\n",
       "      <td>2.005599</td>\n",
       "    </tr>\n",
       "    <tr>\n",
       "      <th>min</th>\n",
       "      <td>202.020000</td>\n",
       "      <td>93.000000</td>\n",
       "      <td>144.850000</td>\n",
       "      <td>134.000000</td>\n",
       "      <td>63.700000</td>\n",
       "      <td>11.000000</td>\n",
       "      <td>2013.000000</td>\n",
       "      <td>1.000000</td>\n",
       "      <td>1.000000</td>\n",
       "      <td>0.000000</td>\n",
       "    </tr>\n",
       "    <tr>\n",
       "      <th>25%</th>\n",
       "      <td>303.780000</td>\n",
       "      <td>597.000000</td>\n",
       "      <td>215.775000</td>\n",
       "      <td>548.000000</td>\n",
       "      <td>145.810000</td>\n",
       "      <td>51.000000</td>\n",
       "      <td>2014.000000</td>\n",
       "      <td>3.000000</td>\n",
       "      <td>9.000000</td>\n",
       "      <td>1.000000</td>\n",
       "    </tr>\n",
       "    <tr>\n",
       "      <th>50%</th>\n",
       "      <td>342.310000</td>\n",
       "      <td>1420.000000</td>\n",
       "      <td>245.800000</td>\n",
       "      <td>1320.000000</td>\n",
       "      <td>185.780000</td>\n",
       "      <td>139.000000</td>\n",
       "      <td>2014.000000</td>\n",
       "      <td>6.000000</td>\n",
       "      <td>22.000000</td>\n",
       "      <td>3.000000</td>\n",
       "    </tr>\n",
       "    <tr>\n",
       "      <th>75%</th>\n",
       "      <td>356.550000</td>\n",
       "      <td>2958.000000</td>\n",
       "      <td>274.155000</td>\n",
       "      <td>2673.000000</td>\n",
       "      <td>222.940000</td>\n",
       "      <td>263.000000</td>\n",
       "      <td>2014.000000</td>\n",
       "      <td>9.000000</td>\n",
       "      <td>37.000000</td>\n",
       "      <td>5.000000</td>\n",
       "    </tr>\n",
       "    <tr>\n",
       "      <th>max</th>\n",
       "      <td>415.700000</td>\n",
       "      <td>18492.000000</td>\n",
       "      <td>379.000000</td>\n",
       "      <td>22027.000000</td>\n",
       "      <td>734.650000</td>\n",
       "      <td>1287.000000</td>\n",
       "      <td>2015.000000</td>\n",
       "      <td>12.000000</td>\n",
       "      <td>52.000000</td>\n",
       "      <td>6.000000</td>\n",
       "    </tr>\n",
       "  </tbody>\n",
       "</table>\n",
       "</div>"
      ],
      "text/plain": [
       "              HighQ        HighQN          MedQ         MedQN          LowQ  \\\n",
       "count  22899.000000  22899.000000  22899.000000  22899.000000  22899.000000   \n",
       "mean     329.759854   2274.743657    247.618306   2183.737805    203.624092   \n",
       "std       41.173167   2641.936586     44.276015   2789.902626    101.484265   \n",
       "min      202.020000     93.000000    144.850000    134.000000     63.700000   \n",
       "25%      303.780000    597.000000    215.775000    548.000000    145.810000   \n",
       "50%      342.310000   1420.000000    245.800000   1320.000000    185.780000   \n",
       "75%      356.550000   2958.000000    274.155000   2673.000000    222.940000   \n",
       "max      415.700000  18492.000000    379.000000  22027.000000    734.650000   \n",
       "\n",
       "              LowQN          year         month          week       weekday  \n",
       "count  22899.000000  22899.000000  22899.000000  22899.000000  22899.000000  \n",
       "mean     202.804489   2014.167038      5.953229     23.812918      2.995546  \n",
       "std      220.531987      0.401765      3.553055     15.426018      2.005599  \n",
       "min       11.000000   2013.000000      1.000000      1.000000      0.000000  \n",
       "25%       51.000000   2014.000000      3.000000      9.000000      1.000000  \n",
       "50%      139.000000   2014.000000      6.000000     22.000000      3.000000  \n",
       "75%      263.000000   2014.000000      9.000000     37.000000      5.000000  \n",
       "max     1287.000000   2015.000000     12.000000     52.000000      6.000000  "
      ]
     },
     "execution_count": 38,
     "metadata": {},
     "output_type": "execute_result"
    }
   ],
   "source": [
    "df.describe()"
   ]
  },
  {
   "cell_type": "markdown",
   "metadata": {},
   "source": [
    "We can also use convenience functions like sum(), count(), mean() etc. to calculate these"
   ]
  },
  {
   "cell_type": "code",
   "execution_count": 39,
   "metadata": {
    "collapsed": false
   },
   "outputs": [
    {
     "data": {
      "text/plain": [
       "329.75985414210226"
      ]
     },
     "execution_count": 39,
     "metadata": {},
     "output_type": "execute_result"
    }
   ],
   "source": [
    "df.HighQ.mean()"
   ]
  },
  {
   "cell_type": "code",
   "execution_count": 40,
   "metadata": {
    "collapsed": false
   },
   "outputs": [
    {
     "data": {
      "text/plain": [
       "7551170.8999999994"
      ]
     },
     "execution_count": 40,
     "metadata": {},
     "output_type": "execute_result"
    }
   ],
   "source": [
    "# Lets do this the hard way\n",
    "df.HighQ.sum()"
   ]
  },
  {
   "cell_type": "code",
   "execution_count": 41,
   "metadata": {
    "collapsed": false
   },
   "outputs": [
    {
     "data": {
      "text/plain": [
       "22899"
      ]
     },
     "execution_count": 41,
     "metadata": {},
     "output_type": "execute_result"
    }
   ],
   "source": [
    "df.HighQ.count()"
   ]
  },
  {
   "cell_type": "code",
   "execution_count": 42,
   "metadata": {
    "collapsed": false
   },
   "outputs": [
    {
     "data": {
      "text/plain": [
       "329.75985414210226"
      ]
     },
     "execution_count": 42,
     "metadata": {},
     "output_type": "execute_result"
    }
   ],
   "source": [
    "df.HighQ.sum()/df.HighQ.count()"
   ]
  },
  {
   "cell_type": "code",
   "execution_count": 43,
   "metadata": {
    "collapsed": false
   },
   "outputs": [
    {
     "data": {
      "text/plain": [
       "342.31"
      ]
     },
     "execution_count": 43,
     "metadata": {},
     "output_type": "execute_result"
    }
   ],
   "source": [
    "df.HighQ.median()"
   ]
  },
  {
   "cell_type": "markdown",
   "metadata": {},
   "source": [
    "Add more exercises???"
   ]
  },
  {
   "cell_type": "markdown",
   "metadata": {},
   "source": [
    "## 2.9 Sample the Data"
   ]
  },
  {
   "cell_type": "code",
   "execution_count": 46,
   "metadata": {
    "collapsed": true
   },
   "outputs": [],
   "source": [
    "?df.sample"
   ]
  },
  {
   "cell_type": "code",
   "execution_count": 51,
   "metadata": {
    "collapsed": false
   },
   "outputs": [],
   "source": [
    "df_ca_sample = df[df.State=='California'].sample(n = 50, replace = True, random_state=123)"
   ]
  },
  {
   "cell_type": "code",
   "execution_count": 57,
   "metadata": {
    "collapsed": false
   },
   "outputs": [
    {
     "data": {
      "text/plain": [
       "20914    False\n",
       "10051    False\n",
       "11428    False\n",
       "2503     False\n",
       "11275    False\n",
       "9235     False\n",
       "14590    False\n",
       "8725     False\n",
       "21118    False\n",
       "15967    False\n",
       "21322    False\n",
       "7399     False\n",
       "1024     False\n",
       "13927    False\n",
       "1075     False\n",
       "8572     False\n",
       "7042     False\n",
       "20200    False\n",
       "17599    False\n",
       "6583     False\n",
       "12499    False\n",
       "6991     False\n",
       "1432     False\n",
       "20047    False\n",
       "5104     False\n",
       "10357    False\n",
       "1024      True\n",
       "16987    False\n",
       "3217     False\n",
       "21475    False\n",
       "2911     False\n",
       "21577    False\n",
       "2197     False\n",
       "2350     False\n",
       "11428     True\n",
       "15304    False\n",
       "8572      True\n",
       "5716     False\n",
       "15508    False\n",
       "7960     False\n",
       "17956    False\n",
       "3268     False\n",
       "8521     False\n",
       "8419     False\n",
       "18364    False\n",
       "15814    False\n",
       "12244    False\n",
       "20608    False\n",
       "17497    False\n",
       "9949     False\n",
       "dtype: bool"
      ]
     },
     "execution_count": 57,
     "metadata": {},
     "output_type": "execute_result"
    }
   ],
   "source": [
    "df_ca_sample.duplicated()"
   ]
  },
  {
   "cell_type": "code",
   "execution_count": 58,
   "metadata": {
    "collapsed": false
   },
   "outputs": [
    {
     "data": {
      "text/html": [
       "<div>\n",
       "<table border=\"1\" class=\"dataframe\">\n",
       "  <thead>\n",
       "    <tr style=\"text-align: right;\">\n",
       "      <th></th>\n",
       "      <th>State</th>\n",
       "      <th>HighQ</th>\n",
       "      <th>HighQN</th>\n",
       "      <th>MedQ</th>\n",
       "      <th>MedQN</th>\n",
       "      <th>LowQ</th>\n",
       "      <th>LowQN</th>\n",
       "      <th>date</th>\n",
       "      <th>year</th>\n",
       "      <th>month</th>\n",
       "      <th>week</th>\n",
       "      <th>weekday</th>\n",
       "    </tr>\n",
       "  </thead>\n",
       "  <tbody>\n",
       "    <tr>\n",
       "      <th>8572</th>\n",
       "      <td>California</td>\n",
       "      <td>248.26</td>\n",
       "      <td>12753</td>\n",
       "      <td>192.89</td>\n",
       "      <td>13618</td>\n",
       "      <td>191</td>\n",
       "      <td>818</td>\n",
       "      <td>2014-02-12</td>\n",
       "      <td>2014</td>\n",
       "      <td>2</td>\n",
       "      <td>7</td>\n",
       "      <td>2</td>\n",
       "    </tr>\n",
       "    <tr>\n",
       "      <th>8572</th>\n",
       "      <td>California</td>\n",
       "      <td>248.26</td>\n",
       "      <td>12753</td>\n",
       "      <td>192.89</td>\n",
       "      <td>13618</td>\n",
       "      <td>191</td>\n",
       "      <td>818</td>\n",
       "      <td>2014-02-12</td>\n",
       "      <td>2014</td>\n",
       "      <td>2</td>\n",
       "      <td>7</td>\n",
       "      <td>2</td>\n",
       "    </tr>\n",
       "  </tbody>\n",
       "</table>\n",
       "</div>"
      ],
      "text/plain": [
       "           State   HighQ  HighQN    MedQ  MedQN  LowQ  LowQN       date  year  \\\n",
       "8572  California  248.26   12753  192.89  13618   191    818 2014-02-12  2014   \n",
       "8572  California  248.26   12753  192.89  13618   191    818 2014-02-12  2014   \n",
       "\n",
       "      month  week  weekday  \n",
       "8572      2     7        2  \n",
       "8572      2     7        2  "
      ]
     },
     "execution_count": 58,
     "metadata": {},
     "output_type": "execute_result"
    }
   ],
   "source": [
    "df_ca_sample.loc[8572]"
   ]
  },
  {
   "cell_type": "markdown",
   "metadata": {},
   "source": [
    "## 2.10 Quirks in Pandas"
   ]
  },
  {
   "cell_type": "code",
   "execution_count": 69,
   "metadata": {
    "collapsed": false
   },
   "outputs": [],
   "source": [
    "df_ca_sample.iat[0, 0] = \"Cal\""
   ]
  },
  {
   "cell_type": "code",
   "execution_count": 71,
   "metadata": {
    "collapsed": false
   },
   "outputs": [
    {
     "data": {
      "text/html": [
       "<div>\n",
       "<table border=\"1\" class=\"dataframe\">\n",
       "  <thead>\n",
       "    <tr style=\"text-align: right;\">\n",
       "      <th></th>\n",
       "      <th>State</th>\n",
       "      <th>HighQ</th>\n",
       "      <th>HighQN</th>\n",
       "      <th>MedQ</th>\n",
       "      <th>MedQN</th>\n",
       "      <th>LowQ</th>\n",
       "      <th>LowQN</th>\n",
       "      <th>date</th>\n",
       "      <th>year</th>\n",
       "      <th>month</th>\n",
       "      <th>week</th>\n",
       "      <th>weekday</th>\n",
       "    </tr>\n",
       "  </thead>\n",
       "  <tbody>\n",
       "    <tr>\n",
       "      <th>20914</th>\n",
       "      <td>Cal</td>\n",
       "      <td>244.05</td>\n",
       "      <td>16474</td>\n",
       "      <td>189.42</td>\n",
       "      <td>19085</td>\n",
       "      <td>188.60</td>\n",
       "      <td>1093</td>\n",
       "      <td>2014-12-28</td>\n",
       "      <td>2014</td>\n",
       "      <td>12</td>\n",
       "      <td>52</td>\n",
       "      <td>6</td>\n",
       "    </tr>\n",
       "    <tr>\n",
       "      <th>10051</th>\n",
       "      <td>California</td>\n",
       "      <td>243.60</td>\n",
       "      <td>16664</td>\n",
       "      <td>189.19</td>\n",
       "      <td>19416</td>\n",
       "      <td>188.60</td>\n",
       "      <td>1109</td>\n",
       "      <td>2015-01-14</td>\n",
       "      <td>2015</td>\n",
       "      <td>1</td>\n",
       "      <td>3</td>\n",
       "      <td>2</td>\n",
       "    </tr>\n",
       "    <tr>\n",
       "      <th>11428</th>\n",
       "      <td>California</td>\n",
       "      <td>244.75</td>\n",
       "      <td>15893</td>\n",
       "      <td>190.43</td>\n",
       "      <td>18113</td>\n",
       "      <td>188.60</td>\n",
       "      <td>1042</td>\n",
       "      <td>2014-11-15</td>\n",
       "      <td>2014</td>\n",
       "      <td>11</td>\n",
       "      <td>46</td>\n",
       "      <td>5</td>\n",
       "    </tr>\n",
       "    <tr>\n",
       "      <th>2503</th>\n",
       "      <td>California</td>\n",
       "      <td>246.53</td>\n",
       "      <td>13435</td>\n",
       "      <td>192.83</td>\n",
       "      <td>14590</td>\n",
       "      <td>191.62</td>\n",
       "      <td>866</td>\n",
       "      <td>2014-04-04</td>\n",
       "      <td>2014</td>\n",
       "      <td>4</td>\n",
       "      <td>14</td>\n",
       "      <td>4</td>\n",
       "    </tr>\n",
       "    <tr>\n",
       "      <th>11275</th>\n",
       "      <td>California</td>\n",
       "      <td>245.27</td>\n",
       "      <td>15108</td>\n",
       "      <td>191.60</td>\n",
       "      <td>16881</td>\n",
       "      <td>187.94</td>\n",
       "      <td>989</td>\n",
       "      <td>2014-08-15</td>\n",
       "      <td>2014</td>\n",
       "      <td>8</td>\n",
       "      <td>33</td>\n",
       "      <td>4</td>\n",
       "    </tr>\n",
       "  </tbody>\n",
       "</table>\n",
       "</div>"
      ],
      "text/plain": [
       "            State   HighQ  HighQN    MedQ  MedQN    LowQ  LowQN       date  \\\n",
       "20914         Cal  244.05   16474  189.42  19085  188.60   1093 2014-12-28   \n",
       "10051  California  243.60   16664  189.19  19416  188.60   1109 2015-01-14   \n",
       "11428  California  244.75   15893  190.43  18113  188.60   1042 2014-11-15   \n",
       "2503   California  246.53   13435  192.83  14590  191.62    866 2014-04-04   \n",
       "11275  California  245.27   15108  191.60  16881  187.94    989 2014-08-15   \n",
       "\n",
       "       year  month  week  weekday  \n",
       "20914  2014     12    52        6  \n",
       "10051  2015      1     3        2  \n",
       "11428  2014     11    46        5  \n",
       "2503   2014      4    14        4  \n",
       "11275  2014      8    33        4  "
      ]
     },
     "execution_count": 71,
     "metadata": {},
     "output_type": "execute_result"
    }
   ],
   "source": [
    "df_ca_sample.head()"
   ]
  },
  {
   "cell_type": "markdown",
   "metadata": {},
   "source": [
    "But changes when you copy"
   ]
  },
  {
   "cell_type": "code",
   "execution_count": 74,
   "metadata": {
    "collapsed": true
   },
   "outputs": [],
   "source": [
    "df_ca_sample2 = df_ca_sample"
   ]
  },
  {
   "cell_type": "code",
   "execution_count": 77,
   "metadata": {
    "collapsed": false
   },
   "outputs": [
    {
     "data": {
      "text/html": [
       "<div>\n",
       "<table border=\"1\" class=\"dataframe\">\n",
       "  <thead>\n",
       "    <tr style=\"text-align: right;\">\n",
       "      <th></th>\n",
       "      <th>State</th>\n",
       "      <th>HighQ</th>\n",
       "      <th>HighQN</th>\n",
       "      <th>MedQ</th>\n",
       "      <th>MedQN</th>\n",
       "      <th>LowQ</th>\n",
       "      <th>LowQN</th>\n",
       "      <th>date</th>\n",
       "      <th>year</th>\n",
       "      <th>month</th>\n",
       "      <th>week</th>\n",
       "      <th>weekday</th>\n",
       "    </tr>\n",
       "  </thead>\n",
       "  <tbody>\n",
       "    <tr>\n",
       "      <th>20914</th>\n",
       "      <td>CA</td>\n",
       "      <td>244.05</td>\n",
       "      <td>16474</td>\n",
       "      <td>189.42</td>\n",
       "      <td>19085</td>\n",
       "      <td>188.60</td>\n",
       "      <td>1093</td>\n",
       "      <td>2014-12-28</td>\n",
       "      <td>2014</td>\n",
       "      <td>12</td>\n",
       "      <td>52</td>\n",
       "      <td>6</td>\n",
       "    </tr>\n",
       "    <tr>\n",
       "      <th>10051</th>\n",
       "      <td>California</td>\n",
       "      <td>243.60</td>\n",
       "      <td>16664</td>\n",
       "      <td>189.19</td>\n",
       "      <td>19416</td>\n",
       "      <td>188.60</td>\n",
       "      <td>1109</td>\n",
       "      <td>2015-01-14</td>\n",
       "      <td>2015</td>\n",
       "      <td>1</td>\n",
       "      <td>3</td>\n",
       "      <td>2</td>\n",
       "    </tr>\n",
       "    <tr>\n",
       "      <th>11428</th>\n",
       "      <td>California</td>\n",
       "      <td>244.75</td>\n",
       "      <td>15893</td>\n",
       "      <td>190.43</td>\n",
       "      <td>18113</td>\n",
       "      <td>188.60</td>\n",
       "      <td>1042</td>\n",
       "      <td>2014-11-15</td>\n",
       "      <td>2014</td>\n",
       "      <td>11</td>\n",
       "      <td>46</td>\n",
       "      <td>5</td>\n",
       "    </tr>\n",
       "    <tr>\n",
       "      <th>2503</th>\n",
       "      <td>California</td>\n",
       "      <td>246.53</td>\n",
       "      <td>13435</td>\n",
       "      <td>192.83</td>\n",
       "      <td>14590</td>\n",
       "      <td>191.62</td>\n",
       "      <td>866</td>\n",
       "      <td>2014-04-04</td>\n",
       "      <td>2014</td>\n",
       "      <td>4</td>\n",
       "      <td>14</td>\n",
       "      <td>4</td>\n",
       "    </tr>\n",
       "    <tr>\n",
       "      <th>11275</th>\n",
       "      <td>California</td>\n",
       "      <td>245.27</td>\n",
       "      <td>15108</td>\n",
       "      <td>191.60</td>\n",
       "      <td>16881</td>\n",
       "      <td>187.94</td>\n",
       "      <td>989</td>\n",
       "      <td>2014-08-15</td>\n",
       "      <td>2014</td>\n",
       "      <td>8</td>\n",
       "      <td>33</td>\n",
       "      <td>4</td>\n",
       "    </tr>\n",
       "  </tbody>\n",
       "</table>\n",
       "</div>"
      ],
      "text/plain": [
       "            State   HighQ  HighQN    MedQ  MedQN    LowQ  LowQN       date  \\\n",
       "20914          CA  244.05   16474  189.42  19085  188.60   1093 2014-12-28   \n",
       "10051  California  243.60   16664  189.19  19416  188.60   1109 2015-01-14   \n",
       "11428  California  244.75   15893  190.43  18113  188.60   1042 2014-11-15   \n",
       "2503   California  246.53   13435  192.83  14590  191.62    866 2014-04-04   \n",
       "11275  California  245.27   15108  191.60  16881  187.94    989 2014-08-15   \n",
       "\n",
       "       year  month  week  weekday  \n",
       "20914  2014     12    52        6  \n",
       "10051  2015      1     3        2  \n",
       "11428  2014     11    46        5  \n",
       "2503   2014      4    14        4  \n",
       "11275  2014      8    33        4  "
      ]
     },
     "execution_count": 77,
     "metadata": {},
     "output_type": "execute_result"
    }
   ],
   "source": [
    "df_ca_sample2.iat[0, 0] = \"CA\"\n",
    "df_ca_sample2.head()"
   ]
  },
  {
   "cell_type": "code",
   "execution_count": 78,
   "metadata": {
    "collapsed": false
   },
   "outputs": [
    {
     "data": {
      "text/html": [
       "<div>\n",
       "<table border=\"1\" class=\"dataframe\">\n",
       "  <thead>\n",
       "    <tr style=\"text-align: right;\">\n",
       "      <th></th>\n",
       "      <th>State</th>\n",
       "      <th>HighQ</th>\n",
       "      <th>HighQN</th>\n",
       "      <th>MedQ</th>\n",
       "      <th>MedQN</th>\n",
       "      <th>LowQ</th>\n",
       "      <th>LowQN</th>\n",
       "      <th>date</th>\n",
       "      <th>year</th>\n",
       "      <th>month</th>\n",
       "      <th>week</th>\n",
       "      <th>weekday</th>\n",
       "    </tr>\n",
       "  </thead>\n",
       "  <tbody>\n",
       "    <tr>\n",
       "      <th>20914</th>\n",
       "      <td>CA</td>\n",
       "      <td>244.05</td>\n",
       "      <td>16474</td>\n",
       "      <td>189.42</td>\n",
       "      <td>19085</td>\n",
       "      <td>188.60</td>\n",
       "      <td>1093</td>\n",
       "      <td>2014-12-28</td>\n",
       "      <td>2014</td>\n",
       "      <td>12</td>\n",
       "      <td>52</td>\n",
       "      <td>6</td>\n",
       "    </tr>\n",
       "    <tr>\n",
       "      <th>10051</th>\n",
       "      <td>California</td>\n",
       "      <td>243.60</td>\n",
       "      <td>16664</td>\n",
       "      <td>189.19</td>\n",
       "      <td>19416</td>\n",
       "      <td>188.60</td>\n",
       "      <td>1109</td>\n",
       "      <td>2015-01-14</td>\n",
       "      <td>2015</td>\n",
       "      <td>1</td>\n",
       "      <td>3</td>\n",
       "      <td>2</td>\n",
       "    </tr>\n",
       "    <tr>\n",
       "      <th>11428</th>\n",
       "      <td>California</td>\n",
       "      <td>244.75</td>\n",
       "      <td>15893</td>\n",
       "      <td>190.43</td>\n",
       "      <td>18113</td>\n",
       "      <td>188.60</td>\n",
       "      <td>1042</td>\n",
       "      <td>2014-11-15</td>\n",
       "      <td>2014</td>\n",
       "      <td>11</td>\n",
       "      <td>46</td>\n",
       "      <td>5</td>\n",
       "    </tr>\n",
       "    <tr>\n",
       "      <th>2503</th>\n",
       "      <td>California</td>\n",
       "      <td>246.53</td>\n",
       "      <td>13435</td>\n",
       "      <td>192.83</td>\n",
       "      <td>14590</td>\n",
       "      <td>191.62</td>\n",
       "      <td>866</td>\n",
       "      <td>2014-04-04</td>\n",
       "      <td>2014</td>\n",
       "      <td>4</td>\n",
       "      <td>14</td>\n",
       "      <td>4</td>\n",
       "    </tr>\n",
       "    <tr>\n",
       "      <th>11275</th>\n",
       "      <td>California</td>\n",
       "      <td>245.27</td>\n",
       "      <td>15108</td>\n",
       "      <td>191.60</td>\n",
       "      <td>16881</td>\n",
       "      <td>187.94</td>\n",
       "      <td>989</td>\n",
       "      <td>2014-08-15</td>\n",
       "      <td>2014</td>\n",
       "      <td>8</td>\n",
       "      <td>33</td>\n",
       "      <td>4</td>\n",
       "    </tr>\n",
       "  </tbody>\n",
       "</table>\n",
       "</div>"
      ],
      "text/plain": [
       "            State   HighQ  HighQN    MedQ  MedQN    LowQ  LowQN       date  \\\n",
       "20914          CA  244.05   16474  189.42  19085  188.60   1093 2014-12-28   \n",
       "10051  California  243.60   16664  189.19  19416  188.60   1109 2015-01-14   \n",
       "11428  California  244.75   15893  190.43  18113  188.60   1042 2014-11-15   \n",
       "2503   California  246.53   13435  192.83  14590  191.62    866 2014-04-04   \n",
       "11275  California  245.27   15108  191.60  16881  187.94    989 2014-08-15   \n",
       "\n",
       "       year  month  week  weekday  \n",
       "20914  2014     12    52        6  \n",
       "10051  2015      1     3        2  \n",
       "11428  2014     11    46        5  \n",
       "2503   2014      4    14        4  \n",
       "11275  2014      8    33        4  "
      ]
     },
     "execution_count": 78,
     "metadata": {},
     "output_type": "execute_result"
    }
   ],
   "source": [
    "df_ca_sample.head()"
   ]
  },
  {
   "cell_type": "markdown",
   "metadata": {},
   "source": [
    "Fix the issue"
   ]
  },
  {
   "cell_type": "code",
   "execution_count": 79,
   "metadata": {
    "collapsed": true
   },
   "outputs": [],
   "source": [
    "df_ca_sample3 = df_ca_sample2.copy()"
   ]
  },
  {
   "cell_type": "code",
   "execution_count": 80,
   "metadata": {
    "collapsed": false
   },
   "outputs": [
    {
     "data": {
      "text/html": [
       "<div>\n",
       "<table border=\"1\" class=\"dataframe\">\n",
       "  <thead>\n",
       "    <tr style=\"text-align: right;\">\n",
       "      <th></th>\n",
       "      <th>State</th>\n",
       "      <th>HighQ</th>\n",
       "      <th>HighQN</th>\n",
       "      <th>MedQ</th>\n",
       "      <th>MedQN</th>\n",
       "      <th>LowQ</th>\n",
       "      <th>LowQN</th>\n",
       "      <th>date</th>\n",
       "      <th>year</th>\n",
       "      <th>month</th>\n",
       "      <th>week</th>\n",
       "      <th>weekday</th>\n",
       "    </tr>\n",
       "  </thead>\n",
       "  <tbody>\n",
       "    <tr>\n",
       "      <th>20914</th>\n",
       "      <td>CA</td>\n",
       "      <td>244.05</td>\n",
       "      <td>16474</td>\n",
       "      <td>189.42</td>\n",
       "      <td>19085</td>\n",
       "      <td>188.60</td>\n",
       "      <td>1093</td>\n",
       "      <td>2014-12-28</td>\n",
       "      <td>2014</td>\n",
       "      <td>12</td>\n",
       "      <td>52</td>\n",
       "      <td>6</td>\n",
       "    </tr>\n",
       "    <tr>\n",
       "      <th>10051</th>\n",
       "      <td>California</td>\n",
       "      <td>243.60</td>\n",
       "      <td>16664</td>\n",
       "      <td>189.19</td>\n",
       "      <td>19416</td>\n",
       "      <td>188.60</td>\n",
       "      <td>1109</td>\n",
       "      <td>2015-01-14</td>\n",
       "      <td>2015</td>\n",
       "      <td>1</td>\n",
       "      <td>3</td>\n",
       "      <td>2</td>\n",
       "    </tr>\n",
       "    <tr>\n",
       "      <th>11428</th>\n",
       "      <td>California</td>\n",
       "      <td>244.75</td>\n",
       "      <td>15893</td>\n",
       "      <td>190.43</td>\n",
       "      <td>18113</td>\n",
       "      <td>188.60</td>\n",
       "      <td>1042</td>\n",
       "      <td>2014-11-15</td>\n",
       "      <td>2014</td>\n",
       "      <td>11</td>\n",
       "      <td>46</td>\n",
       "      <td>5</td>\n",
       "    </tr>\n",
       "    <tr>\n",
       "      <th>2503</th>\n",
       "      <td>California</td>\n",
       "      <td>246.53</td>\n",
       "      <td>13435</td>\n",
       "      <td>192.83</td>\n",
       "      <td>14590</td>\n",
       "      <td>191.62</td>\n",
       "      <td>866</td>\n",
       "      <td>2014-04-04</td>\n",
       "      <td>2014</td>\n",
       "      <td>4</td>\n",
       "      <td>14</td>\n",
       "      <td>4</td>\n",
       "    </tr>\n",
       "    <tr>\n",
       "      <th>11275</th>\n",
       "      <td>California</td>\n",
       "      <td>245.27</td>\n",
       "      <td>15108</td>\n",
       "      <td>191.60</td>\n",
       "      <td>16881</td>\n",
       "      <td>187.94</td>\n",
       "      <td>989</td>\n",
       "      <td>2014-08-15</td>\n",
       "      <td>2014</td>\n",
       "      <td>8</td>\n",
       "      <td>33</td>\n",
       "      <td>4</td>\n",
       "    </tr>\n",
       "  </tbody>\n",
       "</table>\n",
       "</div>"
      ],
      "text/plain": [
       "            State   HighQ  HighQN    MedQ  MedQN    LowQ  LowQN       date  \\\n",
       "20914          CA  244.05   16474  189.42  19085  188.60   1093 2014-12-28   \n",
       "10051  California  243.60   16664  189.19  19416  188.60   1109 2015-01-14   \n",
       "11428  California  244.75   15893  190.43  18113  188.60   1042 2014-11-15   \n",
       "2503   California  246.53   13435  192.83  14590  191.62    866 2014-04-04   \n",
       "11275  California  245.27   15108  191.60  16881  187.94    989 2014-08-15   \n",
       "\n",
       "       year  month  week  weekday  \n",
       "20914  2014     12    52        6  \n",
       "10051  2015      1     3        2  \n",
       "11428  2014     11    46        5  \n",
       "2503   2014      4    14        4  \n",
       "11275  2014      8    33        4  "
      ]
     },
     "execution_count": 80,
     "metadata": {},
     "output_type": "execute_result"
    }
   ],
   "source": [
    "df_ca_sample3.head()"
   ]
  },
  {
   "cell_type": "code",
   "execution_count": 81,
   "metadata": {
    "collapsed": false
   },
   "outputs": [
    {
     "data": {
      "text/html": [
       "<div>\n",
       "<table border=\"1\" class=\"dataframe\">\n",
       "  <thead>\n",
       "    <tr style=\"text-align: right;\">\n",
       "      <th></th>\n",
       "      <th>State</th>\n",
       "      <th>HighQ</th>\n",
       "      <th>HighQN</th>\n",
       "      <th>MedQ</th>\n",
       "      <th>MedQN</th>\n",
       "      <th>LowQ</th>\n",
       "      <th>LowQN</th>\n",
       "      <th>date</th>\n",
       "      <th>year</th>\n",
       "      <th>month</th>\n",
       "      <th>week</th>\n",
       "      <th>weekday</th>\n",
       "    </tr>\n",
       "  </thead>\n",
       "  <tbody>\n",
       "    <tr>\n",
       "      <th>20914</th>\n",
       "      <td>CALIFORNIA</td>\n",
       "      <td>244.05</td>\n",
       "      <td>16474</td>\n",
       "      <td>189.42</td>\n",
       "      <td>19085</td>\n",
       "      <td>188.60</td>\n",
       "      <td>1093</td>\n",
       "      <td>2014-12-28</td>\n",
       "      <td>2014</td>\n",
       "      <td>12</td>\n",
       "      <td>52</td>\n",
       "      <td>6</td>\n",
       "    </tr>\n",
       "    <tr>\n",
       "      <th>10051</th>\n",
       "      <td>California</td>\n",
       "      <td>243.60</td>\n",
       "      <td>16664</td>\n",
       "      <td>189.19</td>\n",
       "      <td>19416</td>\n",
       "      <td>188.60</td>\n",
       "      <td>1109</td>\n",
       "      <td>2015-01-14</td>\n",
       "      <td>2015</td>\n",
       "      <td>1</td>\n",
       "      <td>3</td>\n",
       "      <td>2</td>\n",
       "    </tr>\n",
       "    <tr>\n",
       "      <th>11428</th>\n",
       "      <td>California</td>\n",
       "      <td>244.75</td>\n",
       "      <td>15893</td>\n",
       "      <td>190.43</td>\n",
       "      <td>18113</td>\n",
       "      <td>188.60</td>\n",
       "      <td>1042</td>\n",
       "      <td>2014-11-15</td>\n",
       "      <td>2014</td>\n",
       "      <td>11</td>\n",
       "      <td>46</td>\n",
       "      <td>5</td>\n",
       "    </tr>\n",
       "    <tr>\n",
       "      <th>2503</th>\n",
       "      <td>California</td>\n",
       "      <td>246.53</td>\n",
       "      <td>13435</td>\n",
       "      <td>192.83</td>\n",
       "      <td>14590</td>\n",
       "      <td>191.62</td>\n",
       "      <td>866</td>\n",
       "      <td>2014-04-04</td>\n",
       "      <td>2014</td>\n",
       "      <td>4</td>\n",
       "      <td>14</td>\n",
       "      <td>4</td>\n",
       "    </tr>\n",
       "    <tr>\n",
       "      <th>11275</th>\n",
       "      <td>California</td>\n",
       "      <td>245.27</td>\n",
       "      <td>15108</td>\n",
       "      <td>191.60</td>\n",
       "      <td>16881</td>\n",
       "      <td>187.94</td>\n",
       "      <td>989</td>\n",
       "      <td>2014-08-15</td>\n",
       "      <td>2014</td>\n",
       "      <td>8</td>\n",
       "      <td>33</td>\n",
       "      <td>4</td>\n",
       "    </tr>\n",
       "  </tbody>\n",
       "</table>\n",
       "</div>"
      ],
      "text/plain": [
       "            State   HighQ  HighQN    MedQ  MedQN    LowQ  LowQN       date  \\\n",
       "20914  CALIFORNIA  244.05   16474  189.42  19085  188.60   1093 2014-12-28   \n",
       "10051  California  243.60   16664  189.19  19416  188.60   1109 2015-01-14   \n",
       "11428  California  244.75   15893  190.43  18113  188.60   1042 2014-11-15   \n",
       "2503   California  246.53   13435  192.83  14590  191.62    866 2014-04-04   \n",
       "11275  California  245.27   15108  191.60  16881  187.94    989 2014-08-15   \n",
       "\n",
       "       year  month  week  weekday  \n",
       "20914  2014     12    52        6  \n",
       "10051  2015      1     3        2  \n",
       "11428  2014     11    46        5  \n",
       "2503   2014      4    14        4  \n",
       "11275  2014      8    33        4  "
      ]
     },
     "execution_count": 81,
     "metadata": {},
     "output_type": "execute_result"
    }
   ],
   "source": [
    "df_ca_sample3.iat[0, 0] = \"CALIFORNIA\"\n",
    "df_ca_sample3.head()"
   ]
  },
  {
   "cell_type": "code",
   "execution_count": 82,
   "metadata": {
    "collapsed": false
   },
   "outputs": [
    {
     "data": {
      "text/html": [
       "<div>\n",
       "<table border=\"1\" class=\"dataframe\">\n",
       "  <thead>\n",
       "    <tr style=\"text-align: right;\">\n",
       "      <th></th>\n",
       "      <th>State</th>\n",
       "      <th>HighQ</th>\n",
       "      <th>HighQN</th>\n",
       "      <th>MedQ</th>\n",
       "      <th>MedQN</th>\n",
       "      <th>LowQ</th>\n",
       "      <th>LowQN</th>\n",
       "      <th>date</th>\n",
       "      <th>year</th>\n",
       "      <th>month</th>\n",
       "      <th>week</th>\n",
       "      <th>weekday</th>\n",
       "    </tr>\n",
       "  </thead>\n",
       "  <tbody>\n",
       "    <tr>\n",
       "      <th>20914</th>\n",
       "      <td>CA</td>\n",
       "      <td>244.05</td>\n",
       "      <td>16474</td>\n",
       "      <td>189.42</td>\n",
       "      <td>19085</td>\n",
       "      <td>188.60</td>\n",
       "      <td>1093</td>\n",
       "      <td>2014-12-28</td>\n",
       "      <td>2014</td>\n",
       "      <td>12</td>\n",
       "      <td>52</td>\n",
       "      <td>6</td>\n",
       "    </tr>\n",
       "    <tr>\n",
       "      <th>10051</th>\n",
       "      <td>California</td>\n",
       "      <td>243.60</td>\n",
       "      <td>16664</td>\n",
       "      <td>189.19</td>\n",
       "      <td>19416</td>\n",
       "      <td>188.60</td>\n",
       "      <td>1109</td>\n",
       "      <td>2015-01-14</td>\n",
       "      <td>2015</td>\n",
       "      <td>1</td>\n",
       "      <td>3</td>\n",
       "      <td>2</td>\n",
       "    </tr>\n",
       "    <tr>\n",
       "      <th>11428</th>\n",
       "      <td>California</td>\n",
       "      <td>244.75</td>\n",
       "      <td>15893</td>\n",
       "      <td>190.43</td>\n",
       "      <td>18113</td>\n",
       "      <td>188.60</td>\n",
       "      <td>1042</td>\n",
       "      <td>2014-11-15</td>\n",
       "      <td>2014</td>\n",
       "      <td>11</td>\n",
       "      <td>46</td>\n",
       "      <td>5</td>\n",
       "    </tr>\n",
       "    <tr>\n",
       "      <th>2503</th>\n",
       "      <td>California</td>\n",
       "      <td>246.53</td>\n",
       "      <td>13435</td>\n",
       "      <td>192.83</td>\n",
       "      <td>14590</td>\n",
       "      <td>191.62</td>\n",
       "      <td>866</td>\n",
       "      <td>2014-04-04</td>\n",
       "      <td>2014</td>\n",
       "      <td>4</td>\n",
       "      <td>14</td>\n",
       "      <td>4</td>\n",
       "    </tr>\n",
       "    <tr>\n",
       "      <th>11275</th>\n",
       "      <td>California</td>\n",
       "      <td>245.27</td>\n",
       "      <td>15108</td>\n",
       "      <td>191.60</td>\n",
       "      <td>16881</td>\n",
       "      <td>187.94</td>\n",
       "      <td>989</td>\n",
       "      <td>2014-08-15</td>\n",
       "      <td>2014</td>\n",
       "      <td>8</td>\n",
       "      <td>33</td>\n",
       "      <td>4</td>\n",
       "    </tr>\n",
       "  </tbody>\n",
       "</table>\n",
       "</div>"
      ],
      "text/plain": [
       "            State   HighQ  HighQN    MedQ  MedQN    LowQ  LowQN       date  \\\n",
       "20914          CA  244.05   16474  189.42  19085  188.60   1093 2014-12-28   \n",
       "10051  California  243.60   16664  189.19  19416  188.60   1109 2015-01-14   \n",
       "11428  California  244.75   15893  190.43  18113  188.60   1042 2014-11-15   \n",
       "2503   California  246.53   13435  192.83  14590  191.62    866 2014-04-04   \n",
       "11275  California  245.27   15108  191.60  16881  187.94    989 2014-08-15   \n",
       "\n",
       "       year  month  week  weekday  \n",
       "20914  2014     12    52        6  \n",
       "10051  2015      1     3        2  \n",
       "11428  2014     11    46        5  \n",
       "2503   2014      4    14        4  \n",
       "11275  2014      8    33        4  "
      ]
     },
     "execution_count": 82,
     "metadata": {},
     "output_type": "execute_result"
    }
   ],
   "source": [
    "df_ca_sample2.head()"
   ]
  },
  {
   "cell_type": "code",
   "execution_count": null,
   "metadata": {
    "collapsed": true
   },
   "outputs": [],
   "source": []
  },
  {
   "cell_type": "code",
   "execution_count": null,
   "metadata": {
    "collapsed": true
   },
   "outputs": [],
   "source": []
  }
 ],
 "metadata": {
  "kernelspec": {
   "display_name": "Python 2",
   "language": "python",
   "name": "python2"
  },
  "language_info": {
   "codemirror_mode": {
    "name": "ipython",
    "version": 2
   },
   "file_extension": ".py",
   "mimetype": "text/x-python",
   "name": "python",
   "nbconvert_exporter": "python",
   "pygments_lexer": "ipython2",
   "version": "2.7.10"
  }
 },
 "nbformat": 4,
 "nbformat_minor": 0
}
